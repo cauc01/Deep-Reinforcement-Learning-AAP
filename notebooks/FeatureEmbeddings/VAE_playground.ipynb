{
 "cells": [
  {
   "cell_type": "markdown",
   "metadata": {
    "colab_type": "text",
    "id": "DbuqcOddRn9q"
   },
   "source": [
    "# Testing Variational Autoencoder on synthetic data\n"
   ]
  },
  {
   "cell_type": "code",
   "execution_count": 11,
   "metadata": {
    "colab": {},
    "colab_type": "code",
    "id": "O9FOBtamRSZy"
   },
   "outputs": [],
   "source": [
    "import numpy as np\n",
    "import pandas as pd\n",
    "import statistics as s\n",
    "import matplotlib.pyplot as plt"
   ]
  },
  {
   "cell_type": "code",
   "execution_count": 12,
   "metadata": {
    "colab": {},
    "colab_type": "code",
    "id": "pOMHaDgqRWNM"
   },
   "outputs": [],
   "source": [
    "import tensorflow as tf\n",
    "from tensorflow import contrib\n",
    "from tensorflow.contrib import layers\n",
    "from tensorflow.contrib.slim import fully_connected"
   ]
  },
  {
   "cell_type": "code",
   "execution_count": 0,
   "metadata": {
    "colab": {},
    "colab_type": "code",
    "id": "IXyY9_6lSNTH"
   },
   "outputs": [],
   "source": [
    "class VariationalAutoencoder(object):\n",
    "    \"\"\"Varational Autoencoder.\n",
    "    \"\"\"\n",
    "\n",
    "    def __init__(self, config):\n",
    "        \"\"\"Initializes a VAE.\n",
    "        Args:\n",
    "            config(dict): JSON FILE\n",
    "            name(string): naming the session (default: model)\n",
    "        \"\"\"\n",
    "        self._name = config['name']\n",
    "        self._ndims = config['ndims']\n",
    "        self._nlatent = config['nlatent']\n",
    "        \n",
    "        # Paths\n",
    "        self._save_path = config['path']['save']\n",
    "        self._load_path = config['path']['load']\n",
    "        \n",
    "        # Architecture\n",
    "        self._encoder_h1 = config['encoder']['h1']\n",
    "        self._encoder_h2 = config['encoder']['h2']\n",
    "        self._decoder_h1 = config['decoder']['h1']\n",
    "        self._decoder_h2 = config['decoder']['h2']\n",
    "        \n",
    "        # loss weights (Ad-hoc)\n",
    "        self._reconstruction_loss_weight = config['weights']['reconstruction']\n",
    "        self._latent_loss_weight = config['weights']['latent']\n",
    "\n",
    "        # Create session\n",
    "        self.session = tf.Session(config=tf.ConfigProto(log_device_placement=True))\n",
    "        self.x_placeholder = tf.placeholder(tf.float32, [None, self._ndims])\n",
    "        self.learning_rate_placeholder = tf.placeholder(tf.float32, [])\n",
    "\n",
    "        # Build graph.\n",
    "        self.z_mean, self.z_log_var = self._encoder(self.x_placeholder)\n",
    "        self.z = self._sample_z(self.z_mean, self.z_log_var)\n",
    "        self.outputs_tensor = self._decoder(self.z)\n",
    "\n",
    "        # Setup loss tensor, predict_tensor, update_op_tensor\n",
    "        self.loss_tensor, self.l, self.r = self.loss(self.outputs_tensor, self.x_placeholder,\n",
    "                                                     self.z_mean, self.z_log_var)\n",
    "\n",
    "        self.update_op_tensor = self.update_op(self.loss_tensor,\n",
    "                                               self.learning_rate_placeholder)\n",
    "\n",
    "        # Initialize all variables.\n",
    "        self.session.run(tf.global_variables_initializer())\n",
    "        \n",
    "        # Add ops to save and restore all the variables.\n",
    "        self.saver = tf.train.Saver()        \n",
    "        \n",
    "\n",
    "    def _sample_z(self, z_mean, z_log_var):\n",
    "        \"\"\"Samples z using reparametrization trick.\n",
    "        Args:\n",
    "            z_mean (tf.Tensor): The latent mean,\n",
    "                tensor of dimension (None, _nlatent)\n",
    "            z_log_var (tf.Tensor): The latent log variance,\n",
    "                tensor of dimension (None, _nlatent)\n",
    "        Returns:\n",
    "            z (tf.Tensor): Random sampled z of dimension (None, _nlatent)\n",
    "        \"\"\"\n",
    "\n",
    "        z = None\n",
    "        \n",
    "        z = z_mean + tf.sqrt(tf.exp(z_log_var)) * tf.random_normal(tf.shape(z_mean), 0, 1, dtype=tf.float32)\n",
    "        return z\n",
    "\n",
    "    def _encoder(self, x):\n",
    "        \"\"\"Encoder block of the network.\n",
    "        Builds a two layer network of fully connected layers, with 100 nodes,\n",
    "        then 50 nodes, and outputs two branches each with _nlatent nodes\n",
    "        representing z_mean and z_log_var. Network illustrated below:\n",
    "                             |-> _nlatent (z_mean)\n",
    "        Input --> 100 --> 50 -\n",
    "                             |-> _nlatent (z_log_var)\n",
    "        Use activation of tf.nn.softplus for hidden layers.\n",
    "        Args:\n",
    "            x (tf.Tensor): The input tensor of dimension (None, _ndims).\n",
    "        Returns:\n",
    "            z_mean(tf.Tensor): The latent mean, tensor of dimension\n",
    "                (None, _nlatent).\n",
    "            z_log_var(tf.Tensor): The latent log variance, tensor of dimension\n",
    "                (None, _nlatent).\n",
    "        \"\"\"\n",
    "        z_mean = None\n",
    "        z_log_var = None\n",
    "\n",
    "        # fully connected layer 1 [input --> 100]\n",
    "        fully_connected_1 = fully_connected(inputs=x, num_outputs=self._encoder_h1, activation_fn=tf.nn.softplus)\n",
    "\n",
    "        # fully connected layer 2 [fl1 --> 50]\n",
    "        fully_connected_2 = fully_connected(inputs=fully_connected_1, num_outputs=self._encoder_h2, activation_fn=tf.nn.softplus)\n",
    "\n",
    "        # Output layer\n",
    "        output = fully_connected(inputs=fully_connected_2, num_outputs=2 * self._nlatent, activation_fn=None)\n",
    "\n",
    "        z_mean = output[:, 0:self._nlatent]\n",
    "        z_log_var = output[:, self._nlatent:]\n",
    "\n",
    "        return z_mean, z_log_var\n",
    "\n",
    "    def _decoder(self, z):\n",
    "        \"\"\"From a sampled z, decode back into image.\n",
    "        Builds a three layer network of fully connected layers,\n",
    "        with 50, 100, _ndims nodes.\n",
    "        z (_nlatent) --> 50 --> 100 --> _ndims.\n",
    "        Use activation of tf.nn.softplus for hidden layers.\n",
    "        Args:\n",
    "            z(tf.Tensor): z from _sample_z of dimension (None, _nlatent).\n",
    "        Returns:\n",
    "            f(tf.Tensor): Decoded features, tensor of dimension (None, _ndims).\n",
    "        \"\"\"\n",
    "\n",
    "        f = None\n",
    "        \n",
    "        # fully connected layer 1 [_nlatent --> 50]\n",
    "        fully_connected_1 = fully_connected(inputs=z, num_outputs=self._decoder_h1, activation_fn=tf.nn.softplus)\n",
    "\n",
    "        # fully connected layer 2 [50 --> 100]\n",
    "        fully_connected_2 = fully_connected(inputs=fully_connected_1, num_outputs=self._decoder_h2, activation_fn=tf.nn.softplus)\n",
    "\n",
    "        # Output layer\n",
    "        f = fully_connected(inputs=fully_connected_2, num_outputs=self._ndims, activation_fn=tf.nn.softmax)\n",
    "        return f\n",
    "\n",
    "    def _latent_loss(self, z_mean, z_log_var):\n",
    "        \"\"\"Constructs the latent loss.\n",
    "        Args:\n",
    "            z_mean(tf.Tensor): Tensor of dimension (None, _nlatent)\n",
    "            z_log_var(tf.Tensor): Tensor of dimension (None, _nlatent)\n",
    "        Returns:\n",
    "            latent_loss(tf.Tensor): A scalar Tensor of dimension ()\n",
    "                containing the latent loss.\n",
    "        \"\"\"\n",
    "        latent_loss = None\n",
    "        \n",
    "        latent_loss = tf.reduce_mean(0.5 * tf.reduce_sum(-1 - z_log_var + (tf.square(z_mean) + tf.exp(z_log_var)), 1))\n",
    "        return latent_loss\n",
    "\n",
    "    def _reconstruction_loss(self, f, x_gt):\n",
    "        \"\"\"Constructs the reconstruction loss, assuming Gaussian distribution.\n",
    "        Args:\n",
    "            f(tf.Tensor): Predicted score for each example, dimension (None,\n",
    "                _ndims).\n",
    "            x_gt(tf.Tensor): Ground truth for each example, dimension (None,\n",
    "                _ndims).\n",
    "        Returns:\n",
    "            recon_loss(tf.Tensor): A scalar Tensor for dimension ()\n",
    "                containing the reconstruction loss.\n",
    "        \"\"\"\n",
    "        recon_loss = None\n",
    "        \n",
    "        recon_loss = tf.reduce_mean(tf.reduce_sum(tf.square(f - x_gt), axis=1))\n",
    "        \n",
    "        return recon_loss\n",
    "\n",
    "    def loss(self, f, x_gt, z_mean, z_var):\n",
    "        \"\"\"Computes the total loss.\n",
    "        Computes the sum of latent and reconstruction loss.\n",
    "        Args:\n",
    "            f (tf.Tensor): Decoded image for each example, dimension (None,\n",
    "                _ndims).\n",
    "            x_gt (tf.Tensor): Ground truth for each example, dimension (None,\n",
    "                _ndims)\n",
    "            z_mean (tf.Tensor): The latent mean,\n",
    "                tensor of dimension (None, _nlatent)\n",
    "            z_log_var (tf.Tensor): The latent log variance,\n",
    "                tensor of dimension (None, _nlatent)\n",
    "        Returns:\n",
    "            total_loss: Tensor for dimension (). Sum of\n",
    "                latent_loss and reconstruction loss.\n",
    "        \"\"\"\n",
    "        total_loss = None\n",
    "        \n",
    "        latent_loss = self._latent_loss(z_mean, z_var)\n",
    "        rec_loss = self._reconstruction_loss(f, x_gt)\n",
    "        \n",
    "        total_loss = self._latent_loss_weight*latent_loss + self._reconstruction_loss_weight*rec_loss\n",
    "        \n",
    "        return total_loss, latent_loss, rec_loss\n",
    "\n",
    "    def update_op(self, loss, learning_rate):\n",
    "        \"\"\"Creates the update optimizer.\n",
    "        Use tf.train.AdamOptimizer to obtain the update op.\n",
    "        Args:\n",
    "            loss(tf.Tensor): Tensor of shape () containing the loss function.\n",
    "            learning_rate(tf.Tensor): Tensor of shape (). Learning rate for\n",
    "                gradient descent.\n",
    "        Returns:\n",
    "            train_op(tf.Operation): Update opt tensorflow operation.\n",
    "        \"\"\"\n",
    "        train_op = None\n",
    "        \n",
    "        train_op = tf.train.AdamOptimizer(learning_rate=learning_rate).minimize(loss)\n",
    "        return train_op\n",
    "\n",
    "    def generate_samples(self, z_np):\n",
    "        \"\"\"Generates random samples from the provided z_np.\n",
    "        Args:\n",
    "            z_np(numpy.ndarray): Numpy array of dimension\n",
    "                (batch_size, _nlatent).\n",
    "        Returns:\n",
    "            out(numpy.ndarray): The sampled images (numpy.ndarray) of\n",
    "                dimension (batch_size, _ndims).\n",
    "        \"\"\"\n",
    "        out = None\n",
    "        \n",
    "        out = self.outputs_tensor.eval(session=self.session, feed_dict={self.z: z_np})\n",
    "        return out\n",
    "      \n",
    "    def encode_samples(self, x):\n",
    "        \"\"\"Encode samples from the provided features\n",
    "        Args:\n",
    "            x(numpy.ndarray): Numpy array of dimension\n",
    "                (batch_size, _ndims).\n",
    "        Returns:\n",
    "            embeddings(numpy.ndarray): The embeddings (numpy.ndarray) of\n",
    "                dimension (batch_size, _nlatent).\n",
    "        \"\"\"\n",
    "        embeddings = None\n",
    "        \n",
    "        embeddings = self.z.eval(session=self.session, feed_dict={self.x_placeholder: x})\n",
    "        return embeddings\n",
    "      \n",
    "    def model_accuracy(self):\n",
    "        \"\"\"Creates accuracy tensor.\n",
    "        Use tf.train.AdamOptimizer to obtain the update op.\n",
    "        Returns:\n",
    "            accuracy(tf.Tensor) : Accuracy tensor, dimensions ().\n",
    "        \"\"\"\n",
    "        x_decoded_tensor = tf.cast(tf.argmax(self.outputs_tensor, axis=1), tf.int64)\n",
    "        x_true_tensor = tf.cast(tf.argmax(self.x_placeholder, axis=1), tf.int64)\n",
    "        correct_prediction = tf.equal(x_decoded_tensor, x_true_tensor)\n",
    "        accuracy = tf.reduce_mean(tf.cast(correct_prediction, tf.float32))\n",
    "        return accuracy\n",
    "\n",
    "    def score(self, x):\n",
    "        \"\"\"Scoring function.\n",
    "        Score is the evaluation of accuracy tensor\n",
    "\n",
    "        Args:\n",
    "            x(np.array): The feature vector, dimension(batch, _ndims)\n",
    "            y(np.array): The label vector, dimension(batch, )\n",
    "        Returns:\n",
    "            score(float): evaluated accuracy value.\n",
    "        \"\"\"\n",
    "        acc = self.model_accuracy()\n",
    "        score = acc.eval(session=self.session, feed_dict={self.x_placeholder: x})\n",
    "        return score\n",
    "      \n",
    "    def load(self, path=None, name=None, ext='.ckpt'):\n",
    "        \"\"\"Scoring function.\n",
    "        Score is the evaluation of accuracy tensor\n",
    "\n",
    "        Args:\n",
    "            x(np.array): The feature vector, dimension(batch, _ndims)\n",
    "            y(np.array): The label vector, dimension(batch, )\n",
    "        Returns:\n",
    "            score(float): evaluated accuracy value.\n",
    "        \"\"\"\n",
    "        if not name:\n",
    "            name = self._name\n",
    "          \n",
    "        if not path:\n",
    "            path = self._load_path\n",
    "          \n",
    "        self.saver.restore(self.session, (path+name+ext))\n",
    "    \n",
    "    \n",
    "    def save(self, path=None , name=None, ext='.ckpt'):\n",
    "        \"\"\"Scoring function.\n",
    "        Score is the evaluation of accuracy tensor\n",
    "\n",
    "        Args:\n",
    "            x(np.array): The feature vector, dimension(batch, _ndims)\n",
    "            y(np.array): The label vector, dimension(batch, )\n",
    "        Returns:\n",
    "            score(float): evaluated accuracy value.\n",
    "        \"\"\"\n",
    "        if not name:\n",
    "            name = self._name\n",
    "        \n",
    "        if not path:\n",
    "            path = self._save_path\n",
    "          \n",
    "        save_path = self.saver.save(self.session, (path+name+ext))\n",
    "        print(\"Model saved in path: %s\" % save_path)"
   ]
  },
  {
   "cell_type": "code",
   "execution_count": 0,
   "metadata": {
    "colab": {},
    "colab_type": "code",
    "id": "XX_YtaYkSUvy"
   },
   "outputs": [],
   "source": [
    "def running_mean(x, N):\n",
    "    cumsum = np.cumsum(np.insert(x, 0, 0)) \n",
    "    return (cumsum[N:] - cumsum[:-N]) / float(N)"
   ]
  },
  {
   "cell_type": "code",
   "execution_count": 0,
   "metadata": {
    "colab": {},
    "colab_type": "code",
    "id": "nlFw8am2Sccy"
   },
   "outputs": [],
   "source": [
    "def make_batches(pd, batch_size):\n",
    "    containers = int(np.floor((pd[0].shape[0]) / batch_size))\n",
    "    remaining = ((pd[0].shape[0]) % batch_size)\n",
    "    batch = []\n",
    "    for i in range(0, containers):\n",
    "        batch_x = pd[0][i * batch_size:((i + 1) * batch_size), :]\n",
    "        batch.append([batch_x])\n",
    "    if (remaining):\n",
    "        batch_x = pd[0][(i + 1) * batch_size:(i + 1) * batch_size + remaining, :]\n",
    "        batch.append([batch_x])\n",
    "    return batch"
   ]
  },
  {
   "cell_type": "code",
   "execution_count": 0,
   "metadata": {
    "colab": {},
    "colab_type": "code",
    "id": "Z0JZRb8rS3qk"
   },
   "outputs": [],
   "source": [
    "def train(model, dataset, learning_rate=0.0005, batch_size=16,\n",
    "          epochs=20):\n",
    "    \"\"\"Implements the training loop of mini-batch gradient descent.\n",
    "    Performs mini-batch gradient descent with the indicated batch_size and\n",
    "    learning_rate.\n",
    "    Args:\n",
    "        model(VariationalAutoencoder): Initialized VAE model.\n",
    "        mnist_dataset: Mnist dataset.\n",
    "        learning_rate(float): Learning rate.\n",
    "        batch_size(int): Batch size used for training.\n",
    "        num_steps(int): Number of steps to run the update ops.\n",
    "    \"\"\"\n",
    "    avg_loss = []\n",
    "    \n",
    "    for epoch in range(1, epochs+1):\n",
    "      \n",
    "        # shuffle the data after every epoch      \n",
    "        np.random.shuffle(dataset)\n",
    "        \n",
    "        # make batches\n",
    "        batches = make_batches([dataset],batch_size)\n",
    "        \n",
    "        # cache\n",
    "        batch_loss = []\n",
    "        \n",
    "        # iterate over all batches\n",
    "        for batch in batches:\n",
    "            batch_x = batch[0]\n",
    "            \n",
    "            feed_dict_train = {model.x_placeholder: batch_x,\n",
    "                               model.learning_rate_placeholder: learning_rate}\n",
    "            \n",
    "            session_list = [model.update_op_tensor, model.loss_tensor, model.l, model.r]\n",
    "            \n",
    "            \n",
    "            # Running the model session\n",
    "            _, loss_val, l, r = model.session.run(session_list,\n",
    "                                               feed_dict=feed_dict_train)\n",
    "            \n",
    "            # cache updates\n",
    "            batch_loss.append(loss_val)\n",
    "\n",
    "            \n",
    "        # average loss calculation through cache\n",
    "        average_loss_value = sum(batch_loss) / float(len(batch_loss))\n",
    "        avg_loss.append(average_loss_value)\n",
    "        \n",
    "        \"Display : verbose\"\n",
    "        if epoch % 2 == 0 or epoch == epochs:\n",
    "\n",
    "            # Message for printing.\n",
    "            msg = \"Epoch: {0:>6}, Avg. loss: {1:>6.4f}, Latent loss: {2:>6.4f}, Reconstruction loss: {3:>6.4f}\"\n",
    "\n",
    "            # Print it.\n",
    "            print(msg.format(epoch, average_loss_value, l, r))\n",
    "\n",
    "        if epoch == epochs:\n",
    "\n",
    "            import matplotlib.pyplot as plt\n",
    "            import seaborn as sns\n",
    "\n",
    "            sns.set()\n",
    "            plt.figure(figsize = (10,6))\n",
    "            \n",
    "            plt.plot(running_mean(avg_loss,1))\n",
    "\n",
    "            plt.xlabel('Steps')\n",
    "            plt.ylabel('Loss value')\n",
    "            plt.title('Loss Curve')\n",
    "            plt.show()\n",
    "            \n",
    "            "
   ]
  },
  {
   "cell_type": "code",
   "execution_count": 0,
   "metadata": {
    "colab": {},
    "colab_type": "code",
    "id": "7W9kMgJ7UswT"
   },
   "outputs": [],
   "source": [
    "def get_synthetic_data(classes=2, sample_size=1000):\n",
    "\n",
    "    syn_onehot = np.zeros((classes*sample_size,classes), dtype=np.int8)\n",
    "    for i in range(classes):\n",
    "        syn_onehot[i*sample_size:(i*sample_size)+sample_size, i] = 1\n",
    "    return syn_onehot"
   ]
  },
  {
   "cell_type": "code",
   "execution_count": 0,
   "metadata": {
    "colab": {
     "base_uri": "https://localhost:8080/",
     "height": 471
    },
    "colab_type": "code",
    "id": "gluX1UUFVHgp",
    "outputId": "648aadfa-1995-4ed3-db54-99ec88014ac4"
   },
   "outputs": [
    {
     "name": "stdout",
     "output_type": "stream",
     "text": [
      "Epoch:      2, Avg. loss: 0.4814, Latent loss: 281.1833, Reconstruction loss: 0.0002\n",
      "Epoch:      4, Avg. loss: 0.0746, Latent loss: 282.1736, Reconstruction loss: 0.0000\n",
      "Epoch:      5, Avg. loss: 0.0547, Latent loss: 299.9753, Reconstruction loss: 0.0000\n"
     ]
    },
    {
     "data": {
      "image/png": "[encoded data removed]",
      "text/plain": [
       "<matplotlib.figure.Figure at 0x7f5f54058160>"
      ]
     },
     "metadata": {
      "tags": []
     },
     "output_type": "display_data"
    },
    {
     "name": "stdout",
     "output_type": "stream",
     "text": [
      "Model saved in path: /tmp/synthetic_model.ckpt\n"
     ]
    }
   ],
   "source": [
    "# Data\n",
    "syn_onehot = get_synthetic_data(10, 1000)\n",
    "\n",
    "config = {'ndims': syn_onehot.shape[1],\n",
    "          'nlatent': 10,\n",
    "          'encoder': {'h1': 100,'h2': 50},\n",
    "          'decoder': {'h1': 50, 'h2': 100},\n",
    "          'weights': {'reconstruction':1000, 'latent':0.0001}\n",
    "          }\n",
    "          \n",
    "\n",
    "# Build model.\n",
    "model = VariationalAutoencoder(config, name='synthetic_model')\n",
    "\n",
    "# Start training\n",
    "train(model, syn_onehot, learning_rate=0.0005, batch_size=16, epochs=5)\n",
    "\n",
    "model.save()"
   ]
  },
  {
   "cell_type": "code",
   "execution_count": 0,
   "metadata": {
    "colab": {
     "base_uri": "https://localhost:8080/",
     "height": 51
    },
    "colab_type": "code",
    "id": "JPhOFvjl0oMz",
    "outputId": "33b3164e-a579-44ad-e0cf-ec058384ea75"
   },
   "outputs": [
    {
     "name": "stdout",
     "output_type": "stream",
     "text": [
      "INFO:tensorflow:Restoring parameters from /tmp/synthetic_model.ckpt\n",
      "Accuracy: 100.00%\n"
     ]
    }
   ],
   "source": [
    "model.load()\n",
    "acc = model.score(get_synthetic_data(10, 1000))\n",
    "print('Accuracy: {0:>6.2%}'.format(acc))"
   ]
  },
  {
   "cell_type": "code",
   "execution_count": 0,
   "metadata": {
    "colab": {},
    "colab_type": "code",
    "id": "0MWlNGRqBNIj"
   },
   "outputs": [],
   "source": [
    "embeddings = model.encode_samples(get_synthetic_data(10, 1000))"
   ]
  },
  {
   "cell_type": "code",
   "execution_count": 0,
   "metadata": {
    "colab": {
     "base_uri": "https://localhost:8080/",
     "height": 34
    },
    "colab_type": "code",
    "id": "yyAxqFnMVdIm",
    "outputId": "e8cc4c4c-a1f6-4909-c4c3-799587b9f701"
   },
   "outputs": [
    {
     "data": {
      "text/plain": [
       "array([56, 82, 64, 19, 58, 47, 31, 10,  2,  7, 90, 10, 50, 92, 10,  7])"
      ]
     },
     "execution_count": 20,
     "metadata": {
      "tags": []
     },
     "output_type": "execute_result"
    }
   ],
   "source": [
    "np.argmax(batch[0][0], axis=1)"
   ]
  },
  {
   "cell_type": "code",
   "execution_count": 0,
   "metadata": {
    "colab": {
     "base_uri": "https://localhost:8080/",
     "height": 34
    },
    "colab_type": "code",
    "id": "QS-neHjOYk0I",
    "outputId": "26c0655b-24de-4c99-ef8e-81ed8cb5d183"
   },
   "outputs": [
    {
     "data": {
      "text/plain": [
       "array([56, 82, 64, 19, 58, 47, 31, 10,  2,  7, 90, 10, 50, 92, 10,  7])"
      ]
     },
     "execution_count": 21,
     "metadata": {
      "tags": []
     },
     "output_type": "execute_result"
    }
   ],
   "source": [
    "np.argmax(model.generate_samples(z[0]), axis=1)"
   ]
  },
  {
   "cell_type": "markdown",
   "metadata": {
    "colab_type": "text",
    "id": "FxVnIGkljd7H"
   },
   "source": [
    "# 2M Bag Dataset - Advanced Purchase"
   ]
  },
  {
   "cell_type": "markdown",
   "metadata": {
    "colab_type": "text",
    "id": "08vhTtomRv2L"
   },
   "source": [
    "# Environment Setup\n",
    "\n",
    "- Download 2M dataset from the server.\n"
   ]
  },
  {
   "cell_type": "code",
   "execution_count": 16,
   "metadata": {
    "colab": {
     "base_uri": "https://localhost:8080/",
     "height": 34
    },
    "colab_type": "code",
    "id": "R-ciIK0FQj29",
    "outputId": "8772abe8-1af2-4fe1-855a-f76fcc6df100",
    "scrolled": true
   },
   "outputs": [
    {
     "name": "stdout",
     "output_type": "stream",
     "text": [
      "\u001b[1;32m\n",
      "Downloading dataset - 2M Data [Author : Naman Shukla @ UIUC] ...\n",
      "\u001b[0m\n",
      "\u001b[1;36m\n",
      "connecting server..\n",
      "\u001b[0m\n",
      "--2019-01-09 12:45:07--  https://drive.google.com/uc?export=download&id=1j7PNpD24Qoc9aA5843GYUuyKZzRXIVnt\n",
      "Resolving drive.google.com (drive.google.com)... 2607:f8b0:4000:817::200e, 172.217.2.238\n",
      "Connecting to drive.google.com (drive.google.com)|2607:f8b0:4000:817::200e|:443... connected.\n",
      "HTTP request sent, awaiting response... 302 Moved Temporarily\n",
      "Location: https://doc-0o-a0-docs.googleusercontent.com/docs/securesc/ha0ro937gcuc7l7deffksulhg5h7mbp1/mvah6rccg5br7i0jfththodj0nbrep5m/1547056800000/08923193926105896987/*/1j7PNpD24Qoc9aA5843GYUuyKZzRXIVnt?e=download [following]\n",
      "Warning: wildcards not supported in HTTP.\n",
      "--2019-01-09 12:45:08--  https://doc-0o-a0-docs.googleusercontent.com/docs/securesc/ha0ro937gcuc7l7deffksulhg5h7mbp1/mvah6rccg5br7i0jfththodj0nbrep5m/1547056800000/08923193926105896987/*/1j7PNpD24Qoc9aA5843GYUuyKZzRXIVnt?e=download\n",
      "Resolving doc-0o-a0-docs.googleusercontent.com (doc-0o-a0-docs.googleusercontent.com)... 2607:f8b0:4000:806::2001, 172.217.2.225\n",
      "Connecting to doc-0o-a0-docs.googleusercontent.com (doc-0o-a0-docs.googleusercontent.com)|2607:f8b0:4000:806::2001|:443... connected.\n",
      "HTTP request sent, awaiting response... 200 OK\n",
      "Length: unspecified [application/zip]\n",
      "Saving to: ‘dataset.zip’\n",
      "\n",
      "dataset.zip             [  <=>               ]   4.43M  14.2MB/s    in 0.3s    \n",
      "\n",
      "2019-01-09 12:45:09 (14.2 MB/s) - ‘dataset.zip’ saved [4643682]\n",
      "\n",
      "Archive:  dataset.zip\n",
      "  inflating: data/2M_Data.csv        \n",
      "\u001b[1;36m\n",
      "download finished!\n",
      "\u001b[0m\n"
     ]
    }
   ],
   "source": [
    "!bash dataset.sh"
   ]
  },
  {
   "cell_type": "code",
   "execution_count": 18,
   "metadata": {
    "colab": {
     "base_uri": "https://localhost:8080/",
     "height": 51
    },
    "colab_type": "code",
    "id": "JPxnxkQWYnU8",
    "outputId": "77274ea4-d516-42ff-8349-f506164f2acd"
   },
   "outputs": [
    {
     "name": "stdout",
     "output_type": "stream",
     "text": [
      "Train data shape : (31223, 85)\n",
      "Test data shape : (13096, 85)\n"
     ]
    }
   ],
   "source": [
    "data_path = './data/2M_Data.csv'\n",
    "data = pd.read_csv(data_path)\n",
    "train_df = data[data['TRAIN_TEST']=='TRAIN']\n",
    "test_df = data[data['TRAIN_TEST']=='TEST']\n",
    "print('Train data shape : {}'.format(train_df.shape))\n",
    "print('Test data shape : {}'.format(test_df.shape))"
   ]
  },
  {
   "cell_type": "code",
   "execution_count": 0,
   "metadata": {
    "colab": {},
    "colab_type": "code",
    "id": "Vkc_HDrIkfeT"
   },
   "outputs": [],
   "source": [
    "df = train_df[['advanced_purchase']]*365\n",
    "x = np.array(df).astype(int)\n",
    "x_onehot = np.zeros((x.shape[0],365), dtype=np.int8)\n",
    "for i in range(x.shape[0]):\n",
    "    x_onehot[i,x[i]]=1"
   ]
  },
  {
   "cell_type": "markdown",
   "metadata": {
    "colab_type": "text",
    "id": "ARQC9SGDpXBE"
   },
   "source": [
    "Experiment : 100 - 50 (softplus both)"
   ]
  },
  {
   "cell_type": "code",
   "execution_count": 0,
   "metadata": {
    "colab": {},
    "colab_type": "code",
    "id": "85aQehKmDjWA"
   },
   "outputs": [],
   "source": [
    "config = {'name' : 'Advanced_purchase_vae',\n",
    "          'ndims': x_onehot.shape[1],\n",
    "          'nlatent': 10,\n",
    "          'encoder': {'h1': 100,'h2': 50},\n",
    "          'decoder': {'h1': 50, 'h2': 100},\n",
    "          'weights': {'reconstruction':1000, 'latent':0.00001},\n",
    "          'path': {'save':'./VAE/AdvancedPurchase/', 'load':'./VAE/AdvancedPurchase/'}\n",
    "          }"
   ]
  },
  {
   "cell_type": "code",
   "execution_count": 0,
   "metadata": {
    "colab": {},
    "colab_type": "code",
    "id": "4dPxGzMKks_G"
   },
   "outputs": [],
   "source": [
    "# Build model.\n",
    "model = VariationalAutoencoder(config)\n",
    "\n",
    "# Start training\n",
    "train(model, x_onehot, learning_rate=0.0005, batch_size=16, epochs=25)\n",
    "\n",
    "# Save\n",
    "model.save()"
   ]
  },
  {
   "cell_type": "code",
   "execution_count": 0,
   "metadata": {
    "colab": {
     "base_uri": "https://localhost:8080/",
     "height": 34
    },
    "colab_type": "code",
    "id": "ysf-yFD6L9Xm",
    "outputId": "9eb530aa-159a-4543-8912-5ac694273e85"
   },
   "outputs": [
    {
     "name": "stdout",
     "output_type": "stream",
     "text": [
      "INFO:tensorflow:Restoring parameters from ./VAE/AdvancedPurchase/Advanced_purchase_vae.ckpt\n"
     ]
    }
   ],
   "source": [
    "model.load()"
   ]
  },
  {
   "cell_type": "code",
   "execution_count": 0,
   "metadata": {
    "colab": {
     "base_uri": "https://localhost:8080/",
     "height": 34
    },
    "colab_type": "code",
    "id": "N5_aCDkTk450",
    "outputId": "b4256ecc-9d3f-4d97-c9d8-ca719e1deafa"
   },
   "outputs": [
    {
     "data": {
      "text/plain": [
       "array([5, 7, 7, 7, 6, 7, 7, 3, 9, 5, 4, 6, 9, 4, 1, 6])"
      ]
     },
     "execution_count": 171,
     "metadata": {
      "tags": []
     },
     "output_type": "execute_result"
    }
   ],
   "source": [
    "np.argmax(batch[0][0], axis=1)"
   ]
  },
  {
   "cell_type": "code",
   "execution_count": 0,
   "metadata": {
    "colab": {
     "base_uri": "https://localhost:8080/",
     "height": 51
    },
    "colab_type": "code",
    "id": "o53_k4TPlKUw",
    "outputId": "c2249ff0-b844-4e41-dcc8-52f528712086"
   },
   "outputs": [
    {
     "data": {
      "text/plain": [
       "array([ 43,  94,  94,  94,  43,  94,  94,  94,  94,  43, 102,  43,  94,\n",
       "       102,  94,  43])"
      ]
     },
     "execution_count": 172,
     "metadata": {
      "tags": []
     },
     "output_type": "execute_result"
    }
   ],
   "source": [
    "np.argmax(model.generate_samples(z[0]), axis=1)"
   ]
  },
  {
   "cell_type": "code",
   "execution_count": 0,
   "metadata": {
    "colab": {
     "base_uri": "https://localhost:8080/",
     "height": 34
    },
    "colab_type": "code",
    "id": "1uxHLlnpN-r_",
    "outputId": "e54d1398-e0a2-416a-fb4b-e21f3a2ca0ff"
   },
   "outputs": [
    {
     "name": "stdout",
     "output_type": "stream",
     "text": [
      "Accuracy: 87.23%\n"
     ]
    }
   ],
   "source": [
    "df = test_df[['advanced_purchase']]*365\n",
    "x = np.array(df).astype(int)\n",
    "x_onehot = np.zeros((x.shape[0],365), dtype=np.int8)\n",
    "for i in range(x.shape[0]):\n",
    "    x_onehot[i,x[i]]=1\n",
    "acc = model.score(x_onehot)\n",
    "print('Accuracy: {0:>6.2%}'.format(acc))"
   ]
  },
  {
   "cell_type": "markdown",
   "metadata": {
    "colab_type": "text",
    "id": "feihLc1rprRY"
   },
   "source": [
    "Experiment: \n",
    "100 - 50 (softplus)\n",
    "z = 10"
   ]
  },
  {
   "cell_type": "code",
   "execution_count": 0,
   "metadata": {
    "colab": {
     "base_uri": "https://localhost:8080/",
     "height": 624
    },
    "colab_type": "code",
    "id": "lJb3z88vpk2-",
    "outputId": "4bb0af27-1eb2-4094-b1a8-c7a99c216923"
   },
   "outputs": [
    {
     "name": "stdout",
     "output_type": "stream",
     "text": [
      "Epoch:      2, Avg. loss: 962.1491, Latent loss: 217.5187, Reconstruction loss: 0.8541\n",
      "Epoch:      4, Avg. loss: 351.9646, Latent loss: 708.8485, Reconstruction loss: 0.4286\n",
      "Epoch:      6, Avg. loss: 346.0102, Latent loss: 544.9188, Reconstruction loss: 0.5714\n",
      "Epoch:      8, Avg. loss: 294.5482, Latent loss: 465.7717, Reconstruction loss: 0.0001\n",
      "Epoch:     10, Avg. loss: 203.3256, Latent loss: 470.8414, Reconstruction loss: 0.0001\n",
      "Epoch:     12, Avg. loss: 145.0730, Latent loss: 431.9204, Reconstruction loss: 0.2861\n",
      "Epoch:     14, Avg. loss: 112.9617, Latent loss: 606.1473, Reconstruction loss: 0.1431\n",
      "Epoch:     16, Avg. loss: 133.6413, Latent loss: 440.4961, Reconstruction loss: 0.0003\n",
      "Epoch:     18, Avg. loss: 104.4549, Latent loss: 451.7411, Reconstruction loss: 0.1429\n",
      "Epoch:     20, Avg. loss: 113.5875, Latent loss: 492.3340, Reconstruction loss: 0.1429\n",
      "Epoch:     22, Avg. loss: 111.7449, Latent loss: 418.7504, Reconstruction loss: 0.0000\n",
      "Epoch:     24, Avg. loss: 101.5125, Latent loss: 291.2022, Reconstruction loss: 0.0000\n",
      "Epoch:     25, Avg. loss: 117.0431, Latent loss: 456.7044, Reconstruction loss: 0.0001\n"
     ]
    },
    {
     "data": {
      "image/png": "[encoded data removed]",
      "text/plain": [
       "<matplotlib.figure.Figure at 0x7f5f5d751208>"
      ]
     },
     "metadata": {
      "tags": []
     },
     "output_type": "display_data"
    }
   ],
   "source": [
    "# Build model.\n",
    "model = VariationalAutoencoder(ndims=365, nlatent=10)\n",
    "\n",
    "# Start training\n",
    "batch, z = train(model, x_onehot, learning_rate=0.0005, batch_size=16, epochs=25)"
   ]
  },
  {
   "cell_type": "code",
   "execution_count": 0,
   "metadata": {
    "colab": {
     "base_uri": "https://localhost:8080/",
     "height": 51
    },
    "colab_type": "code",
    "id": "Rwkypx8srcrR",
    "outputId": "c0224d63-b6eb-48dd-a933-36b1799f75e5"
   },
   "outputs": [
    {
     "data": {
      "text/plain": [
       "array([ 40,  98, 156,   0, 287, 296,  70,  68,  64,  65,  42,  16,  51,\n",
       "        31,  21, 160])"
      ]
     },
     "execution_count": 62,
     "metadata": {
      "tags": []
     },
     "output_type": "execute_result"
    }
   ],
   "source": [
    "np.argmax(batch[0][0], axis=1)"
   ]
  },
  {
   "cell_type": "code",
   "execution_count": 0,
   "metadata": {
    "colab": {
     "base_uri": "https://localhost:8080/",
     "height": 51
    },
    "colab_type": "code",
    "id": "xTLd7h8JlK5k",
    "outputId": "5af184be-459b-474f-fb17-d020b893da09"
   },
   "outputs": [
    {
     "data": {
      "text/plain": [
       "array([ 40,  98, 156,   0, 256, 256,  70,  68, 238,  65,  42,  16,  51,\n",
       "        31,  21, 160])"
      ]
     },
     "execution_count": 63,
     "metadata": {
      "tags": []
     },
     "output_type": "execute_result"
    }
   ],
   "source": [
    "np.argmax(model.generate_samples(z[0]), axis=1)"
   ]
  },
  {
   "cell_type": "markdown",
   "metadata": {
    "colab_type": "text",
    "id": "btmTpWxPQRb6"
   },
   "source": [
    "# 2M Bag Dataset - LOS"
   ]
  },
  {
   "cell_type": "code",
   "execution_count": 0,
   "metadata": {
    "colab": {},
    "colab_type": "code",
    "id": "Bpr9pVV9QN0M"
   },
   "outputs": [],
   "source": [
    "df = train_df[['LOS_DAYS']]\n",
    "x = np.array(df).astype(int)\n",
    "x_onehot = np.zeros((x.shape[0],33), dtype=np.int8)\n",
    "for i in range(x.shape[0]):\n",
    "    if x[i] >31:\n",
    "        x_onehot[i,32]=1\n",
    "    else:\n",
    "        x_onehot[i,x[i]]=1"
   ]
  },
  {
   "cell_type": "code",
   "execution_count": 0,
   "metadata": {
    "colab": {},
    "colab_type": "code",
    "id": "Pkzcq_R87wpJ"
   },
   "outputs": [],
   "source": [
    "config = {'name' : 'LOS_vae',\n",
    "          'ndims': x_onehot.shape[1],\n",
    "          'nlatent': 3,\n",
    "          'encoder': {'h1': 100,'h2': 50},\n",
    "          'decoder': {'h1': 50, 'h2': 100},\n",
    "          'weights': {'reconstruction':1000, 'latent':0.00001},\n",
    "          'path': {'save':'./VAE/LOS/', 'load':'./VAE/LOS/'}\n",
    "          }"
   ]
  },
  {
   "cell_type": "code",
   "execution_count": 0,
   "metadata": {
    "colab": {
     "base_uri": "https://localhost:8080/",
     "height": 641
    },
    "colab_type": "code",
    "id": "XWV6XJtcQqVZ",
    "outputId": "67367365-20f9-40d2-ed38-8e0510b3dce3"
   },
   "outputs": [
    {
     "name": "stdout",
     "output_type": "stream",
     "text": [
      "Epoch:      2, Avg. loss: 182.3808, Latent loss: 581.2930, Reconstruction loss: 0.0008\n",
      "Epoch:      4, Avg. loss: 75.2914, Latent loss: 562.0991, Reconstruction loss: 0.1480\n",
      "Epoch:      6, Avg. loss: 46.8860, Latent loss: 693.5970, Reconstruction loss: 0.0000\n",
      "Epoch:      8, Avg. loss: 66.7451, Latent loss: 543.2866, Reconstruction loss: 0.0003\n",
      "Epoch:     10, Avg. loss: 46.6273, Latent loss: 490.9083, Reconstruction loss: 0.0002\n",
      "Epoch:     12, Avg. loss: 42.9026, Latent loss: 518.8341, Reconstruction loss: 0.0000\n",
      "Epoch:     14, Avg. loss: 42.6008, Latent loss: 365.8109, Reconstruction loss: 0.0007\n",
      "Epoch:     16, Avg. loss: 43.8443, Latent loss: 367.2266, Reconstruction loss: 0.0003\n",
      "Epoch:     18, Avg. loss: 31.9780, Latent loss: 381.3169, Reconstruction loss: 0.0001\n",
      "Epoch:     20, Avg. loss: 24.0311, Latent loss: 387.4420, Reconstruction loss: 0.0001\n",
      "Epoch:     22, Avg. loss: 38.0804, Latent loss: 448.9721, Reconstruction loss: 0.0000\n",
      "Epoch:     24, Avg. loss: 22.6981, Latent loss: 444.0586, Reconstruction loss: 0.0000\n",
      "Epoch:     25, Avg. loss: 28.6879, Latent loss: 287.5188, Reconstruction loss: 0.0004\n"
     ]
    },
    {
     "data": {
      "image/png": "[encoded data removed]",
      "text/plain": [
       "<matplotlib.figure.Figure at 0x7f5f493c0208>"
      ]
     },
     "metadata": {
      "tags": []
     },
     "output_type": "display_data"
    },
    {
     "name": "stdout",
     "output_type": "stream",
     "text": [
      "Model saved in path: ./VAE/LOS/LOS_vae.ckpt\n"
     ]
    }
   ],
   "source": [
    "# Build model.\n",
    "model = VariationalAutoencoder(config)\n",
    "\n",
    "# Start training\n",
    "train(model, x_onehot, learning_rate=0.0005, batch_size=16, epochs=25)\n",
    "\n",
    "#save\n",
    "model.save()"
   ]
  },
  {
   "cell_type": "code",
   "execution_count": 0,
   "metadata": {
    "colab": {
     "base_uri": "https://localhost:8080/",
     "height": 34
    },
    "colab_type": "code",
    "id": "IiY5LyY0SVd7",
    "outputId": "7da43c61-913b-4971-c16d-7d7cb967f4cd"
   },
   "outputs": [
    {
     "data": {
      "text/plain": [
       "array([ 0,  4,  7,  0,  0, 15,  4, 10,  0, 12,  2,  2,  2,  6,  0,  0])"
      ]
     },
     "execution_count": 154,
     "metadata": {
      "tags": []
     },
     "output_type": "execute_result"
    }
   ],
   "source": [
    "np.argmax(batch[0][0], axis=1)"
   ]
  },
  {
   "cell_type": "code",
   "execution_count": 0,
   "metadata": {
    "colab": {
     "base_uri": "https://localhost:8080/",
     "height": 34
    },
    "colab_type": "code",
    "id": "HofKMRMlSy-m",
    "outputId": "8fbf5f06-11a5-4a78-f597-ab22ce06c038"
   },
   "outputs": [
    {
     "data": {
      "text/plain": [
       "array([ 0,  4,  7,  0,  0, 15,  4, 10,  0, 12,  2,  2,  2,  6,  0,  0])"
      ]
     },
     "execution_count": 155,
     "metadata": {
      "tags": []
     },
     "output_type": "execute_result"
    }
   ],
   "source": [
    "np.argmax(model.generate_samples(z[0]), axis=1)"
   ]
  },
  {
   "cell_type": "code",
   "execution_count": 0,
   "metadata": {
    "colab": {},
    "colab_type": "code",
    "id": "AhmB4i8StHb3"
   },
   "outputs": [],
   "source": [
    "df = test_df[['LOS_DAYS']]\n",
    "x = np.array(df).astype(int)\n",
    "x_onehot = np.zeros((x.shape[0],33), dtype=np.int8)\n",
    "for i in range(x.shape[0]):\n",
    "    if x[i] >31:\n",
    "        x_onehot[i,32]=1\n",
    "    else:\n",
    "        x_onehot[i,x[i]]=1"
   ]
  },
  {
   "cell_type": "code",
   "execution_count": 0,
   "metadata": {
    "colab": {
     "base_uri": "https://localhost:8080/",
     "height": 51
    },
    "colab_type": "code",
    "id": "obbXrs_S9K8b",
    "outputId": "4fe58dcf-ac39-4549-a151-874b2e38300a"
   },
   "outputs": [
    {
     "name": "stdout",
     "output_type": "stream",
     "text": [
      "INFO:tensorflow:Restoring parameters from ./VAE/LOS/LOS_vae.ckpt\n",
      "Accuracy: 98.61%\n"
     ]
    }
   ],
   "source": [
    "model.load()\n",
    "acc = model.score(x_onehot)\n",
    "print('Accuracy: {0:>6.2%}'.format(acc))"
   ]
  },
  {
   "cell_type": "code",
   "execution_count": 0,
   "metadata": {
    "colab": {
     "base_uri": "https://localhost:8080/",
     "height": 624
    },
    "colab_type": "code",
    "id": "ry_DTBM3U2jA",
    "outputId": "1e242830-7d2c-4753-c026-944365accb5c"
   },
   "outputs": [
    {
     "name": "stdout",
     "output_type": "stream",
     "text": [
      "Epoch:      2, Avg. loss: 68.3199, Latent loss: 523.9367, Reconstruction loss: 0.1718\n",
      "Epoch:      4, Avg. loss: 54.2181, Latent loss: 469.6590, Reconstruction loss: 0.1639\n",
      "Epoch:      6, Avg. loss: 117.2058, Latent loss: 341.8581, Reconstruction loss: 0.8091\n",
      "Epoch:      8, Avg. loss: 35.6661, Latent loss: 376.9150, Reconstruction loss: 0.0001\n",
      "Epoch:     10, Avg. loss: 49.2491, Latent loss: 330.0764, Reconstruction loss: 0.0000\n",
      "Epoch:     12, Avg. loss: 18.7418, Latent loss: 431.1748, Reconstruction loss: 0.0000\n",
      "Epoch:     14, Avg. loss: 59.4805, Latent loss: 278.2872, Reconstruction loss: 0.0002\n",
      "Epoch:     16, Avg. loss: 8.5185, Latent loss: 298.6424, Reconstruction loss: 0.0001\n",
      "Epoch:     18, Avg. loss: 12.2482, Latent loss: 388.0764, Reconstruction loss: 0.0000\n",
      "Epoch:     20, Avg. loss: 6.9141, Latent loss: 340.1270, Reconstruction loss: 0.0000\n",
      "Epoch:     22, Avg. loss: 8.8375, Latent loss: 367.9838, Reconstruction loss: 0.0000\n",
      "Epoch:     24, Avg. loss: 6.8908, Latent loss: 374.3418, Reconstruction loss: 0.0000\n",
      "Epoch:     25, Avg. loss: 6.9345, Latent loss: 347.1232, Reconstruction loss: 0.0000\n"
     ]
    },
    {
     "data": {
      "image/png": "[encoded data removed]",
      "text/plain": [
       "<matplotlib.figure.Figure at 0x7f5f5cba54e0>"
      ]
     },
     "metadata": {
      "tags": []
     },
     "output_type": "display_data"
    }
   ],
   "source": [
    "# Build model.\n",
    "model = VariationalAutoencoder(ndims=x_onehot.shape[1], nlatent=3)\n",
    "\n",
    "# Start training\n",
    "batch, z = train(model, x_onehot, learning_rate=0.0005, batch_size=16, epochs=25)"
   ]
  },
  {
   "cell_type": "code",
   "execution_count": 0,
   "metadata": {
    "colab": {
     "base_uri": "https://localhost:8080/",
     "height": 34
    },
    "colab_type": "code",
    "id": "wtkFycPgWylo",
    "outputId": "9fb10aa9-9ff3-4478-cf6a-97d47418b020"
   },
   "outputs": [
    {
     "data": {
      "text/plain": [
       "array([11,  0, 10,  5,  5,  7,  6,  5,  8, 32,  5,  0,  0,  0,  0,  0])"
      ]
     },
     "execution_count": 88,
     "metadata": {
      "tags": []
     },
     "output_type": "execute_result"
    }
   ],
   "source": [
    "np.argmax(batch[0][0], axis=1)"
   ]
  },
  {
   "cell_type": "code",
   "execution_count": 0,
   "metadata": {
    "colab": {
     "base_uri": "https://localhost:8080/",
     "height": 34
    },
    "colab_type": "code",
    "id": "zLCyOUQtXpfL",
    "outputId": "d109ca06-5861-403f-8026-ca084923df11"
   },
   "outputs": [
    {
     "data": {
      "text/plain": [
       "array([11,  0, 10,  5,  5,  7,  6,  5,  8, 32,  5,  0,  0,  0,  0,  0])"
      ]
     },
     "execution_count": 89,
     "metadata": {
      "tags": []
     },
     "output_type": "execute_result"
    }
   ],
   "source": [
    "np.argmax(model.generate_samples(z[0]), axis=1)"
   ]
  },
  {
   "cell_type": "code",
   "execution_count": 0,
   "metadata": {
    "colab": {
     "base_uri": "https://localhost:8080/",
     "height": 265
    },
    "colab_type": "code",
    "id": "rxL6w4t9XqAs",
    "outputId": "054009f6-6865-43f6-9e4c-4a34a049c3a8"
   },
   "outputs": [
    {
     "data": {
      "text/plain": [
       "<mpl_toolkits.mplot3d.art3d.Path3DCollection at 0x7f5f73f989b0>"
      ]
     },
     "execution_count": 97,
     "metadata": {
      "tags": []
     },
     "output_type": "execute_result"
    },
    {
     "data": {
      "image/png": "[encoded data removed]",
      "text/plain": [
       "<matplotlib.figure.Figure at 0x7f5f74fb6a58>"
      ]
     },
     "metadata": {
      "tags": []
     },
     "output_type": "display_data"
    }
   ],
   "source": [
    "first = True\n",
    "for batch in z:\n",
    "    if first:\n",
    "        first = False\n",
    "        zz = batch\n",
    "    else:\n",
    "        zz = np.concatenate((zz, batch), axis=0)\n",
    "\n",
    "from mpl_toolkits.mplot3d import Axes3D\n",
    "%matplotlib inline \n",
    "\n",
    "fig = plt.figure()\n",
    "ax = fig.add_subplot(111, projection='3d')\n",
    "ax.scatter(zz[:,0], zz[:,1], zz[:,2])"
   ]
  },
  {
   "cell_type": "markdown",
   "metadata": {
    "colab_type": "text",
    "id": "Jn4d787fbBnh"
   },
   "source": [
    "# 2M Bag Dataset - Group Size"
   ]
  },
  {
   "cell_type": "code",
   "execution_count": 0,
   "metadata": {
    "colab": {},
    "colab_type": "code",
    "id": "fFviFpWLYL1u"
   },
   "outputs": [],
   "source": [
    "df = train_df[['GROUP_SIZE']]\n",
    "x = np.array(df).astype(int)\n",
    "x_onehot = np.zeros((x.shape[0],5), dtype=np.int8)\n",
    "for i in range(x.shape[0]):\n",
    "  if x[i] >4:\n",
    "    x_onehot[i,4]=1\n",
    "  else:\n",
    "    x_onehot[i,x[i]-1]=1"
   ]
  },
  {
   "cell_type": "code",
   "execution_count": 0,
   "metadata": {
    "colab": {
     "base_uri": "https://localhost:8080/",
     "height": 590
    },
    "colab_type": "code",
    "id": "9FFTulmffAnL",
    "outputId": "b73332d6-f11f-4192-db55-d8f331573fb9"
   },
   "outputs": [
    {
     "name": "stdout",
     "output_type": "stream",
     "text": [
      "Epoch:      2, Avg. loss: 26.9935, Latent loss: 123.7921, Reconstruction loss: 0.0001\n",
      "Epoch:      4, Avg. loss: 26.6904, Latent loss: 102.6105, Reconstruction loss: 0.0001\n",
      "Epoch:      6, Avg. loss: 0.0251, Latent loss: 212.1620, Reconstruction loss: 0.0000\n",
      "Epoch:      8, Avg. loss: 0.0069, Latent loss: 242.3061, Reconstruction loss: 0.0000\n",
      "Epoch:     10, Avg. loss: 0.0040, Latent loss: 241.3470, Reconstruction loss: 0.0000\n",
      "Epoch:     12, Avg. loss: 0.0032, Latent loss: 267.7228, Reconstruction loss: 0.0000\n",
      "Epoch:     14, Avg. loss: 0.0028, Latent loss: 263.8126, Reconstruction loss: 0.0000\n",
      "Epoch:     16, Avg. loss: 0.0024, Latent loss: 192.9008, Reconstruction loss: 0.0000\n",
      "Epoch:     18, Avg. loss: 0.0019, Latent loss: 170.0698, Reconstruction loss: 0.0000\n",
      "Epoch:     20, Avg. loss: 0.0014, Latent loss: 111.7527, Reconstruction loss: 0.0000\n"
     ]
    },
    {
     "data": {
      "image/png": "[encoded data removed]",
      "text/plain": [
       "<matplotlib.figure.Figure at 0x7f5f729d0240>"
      ]
     },
     "metadata": {
      "tags": []
     },
     "output_type": "display_data"
    },
    {
     "name": "stdout",
     "output_type": "stream",
     "text": [
      "Model saved in path: ./VAE/GroupSize/GroupSize_vae.ckpt\n"
     ]
    }
   ],
   "source": [
    "config = {'name' : 'GroupSize_vae',\n",
    "          'ndims': x_onehot.shape[1],\n",
    "          'nlatent': 2,\n",
    "          'encoder': {'h1': 100,'h2': 50},\n",
    "          'decoder': {'h1': 50, 'h2': 100},\n",
    "          'weights': {'reconstruction':1000, 'latent':0.00001},\n",
    "          'path': {'save':'./VAE/GroupSize/', 'load':'./VAE/GroupSize/'}\n",
    "          }\n",
    "\n",
    "# Build model.\n",
    "model = VariationalAutoencoder(config)\n",
    "\n",
    "# Start training\n",
    "train(model, x_onehot, learning_rate=0.0005, batch_size=16, epochs=20)\n",
    "\n",
    "model.save()"
   ]
  },
  {
   "cell_type": "code",
   "execution_count": 0,
   "metadata": {
    "colab": {},
    "colab_type": "code",
    "id": "f0jdUm-2RUXN"
   },
   "outputs": [],
   "source": [
    "df = test_df[['GROUP_SIZE']]\n",
    "x = np.array(df).astype(int)\n",
    "x_onehot = np.zeros((x.shape[0],5), dtype=np.int8)\n",
    "for i in range(x.shape[0]):\n",
    "  if x[i] >4:\n",
    "    x_onehot[i,4]=1\n",
    "  else:\n",
    "    x_onehot[i,x[i]-1]=1"
   ]
  },
  {
   "cell_type": "code",
   "execution_count": 0,
   "metadata": {
    "colab": {
     "base_uri": "https://localhost:8080/",
     "height": 51
    },
    "colab_type": "code",
    "id": "luadonOvgcZP",
    "outputId": "93673f5c-532c-490a-ac52-833bc0991e2d"
   },
   "outputs": [
    {
     "name": "stdout",
     "output_type": "stream",
     "text": [
      "INFO:tensorflow:Restoring parameters from ./VAE/GroupSize/GroupSize_vae.ckpt\n",
      "Accuracy: 100.00%\n"
     ]
    }
   ],
   "source": [
    "model.load()\n",
    "acc = model.score(x_onehot)\n",
    "print('Accuracy: {0:>6.2%}'.format(acc))"
   ]
  },
  {
   "cell_type": "markdown",
   "metadata": {
    "colab_type": "text",
    "id": "MfgCNV5ihm7Q"
   },
   "source": [
    "# 2M Bag Dataset - LOS + Group Size"
   ]
  },
  {
   "cell_type": "code",
   "execution_count": 0,
   "metadata": {
    "colab": {},
    "colab_type": "code",
    "id": "yuyCXIPbglhO"
   },
   "outputs": [],
   "source": [
    "df = train_df[['LOS_DAYS']]\n",
    "x = np.array(df).astype(int)\n",
    "x_onehot_los = np.zeros((x.shape[0],33), dtype=np.int8)\n",
    "for i in range(x.shape[0]):\n",
    "  if x[i] >31:\n",
    "    x_onehot_los[i,32]=1\n",
    "  else:\n",
    "    x_onehot_los[i,x[i]]=1"
   ]
  },
  {
   "cell_type": "code",
   "execution_count": 0,
   "metadata": {
    "colab": {},
    "colab_type": "code",
    "id": "MdsS4JqOh5Gw"
   },
   "outputs": [],
   "source": [
    "df = train_df[['GROUP_SIZE']]\n",
    "x = np.array(df).astype(int)\n",
    "x_onehot_GS = np.zeros((x.shape[0],5), dtype=np.int8)\n",
    "for i in range(x.shape[0]):\n",
    "  if x[i] >4:\n",
    "    x_onehot_GS[i,4]=1\n",
    "  else:\n",
    "    x_onehot_GS[i,x[i]-1]=1"
   ]
  },
  {
   "cell_type": "code",
   "execution_count": 0,
   "metadata": {
    "colab": {},
    "colab_type": "code",
    "id": "qAa4JxqGiGsX"
   },
   "outputs": [],
   "source": [
    "x_onehot = np.concatenate((x_onehot_los, x_onehot_GS), axis=1)"
   ]
  },
  {
   "cell_type": "code",
   "execution_count": 0,
   "metadata": {
    "colab": {
     "base_uri": "https://localhost:8080/",
     "height": 675
    },
    "colab_type": "code",
    "id": "VxFv3tSNiVy9",
    "outputId": "6f62ec12-3463-4d5c-f78b-1904bf3e90c8"
   },
   "outputs": [
    {
     "name": "stdout",
     "output_type": "stream",
     "text": [
      "Epoch:      2, Avg. loss: 104394.5535, Latent loss: 134.7033, Reconstruction loss: 1.0393\n",
      "Epoch:      4, Avg. loss: 87984.9021, Latent loss: 225.3164, Reconstruction loss: 0.8763\n",
      "Epoch:      6, Avg. loss: 84462.9549, Latent loss: 266.2122, Reconstruction loss: 0.8212\n",
      "Epoch:      8, Avg. loss: 83867.4863, Latent loss: 315.7455, Reconstruction loss: 0.7637\n",
      "Epoch:     10, Avg. loss: 81872.0467, Latent loss: 346.1848, Reconstruction loss: 0.7576\n",
      "Epoch:     12, Avg. loss: 80790.2281, Latent loss: 353.5071, Reconstruction loss: 0.6377\n",
      "Epoch:     14, Avg. loss: 80650.9001, Latent loss: 380.5765, Reconstruction loss: 0.7507\n",
      "Epoch:     16, Avg. loss: 80647.2471, Latent loss: 397.8724, Reconstruction loss: 0.8130\n",
      "Epoch:     18, Avg. loss: 80610.7857, Latent loss: 364.5017, Reconstruction loss: 0.9387\n",
      "Epoch:     20, Avg. loss: 80625.2495, Latent loss: 377.8889, Reconstruction loss: 0.9086\n",
      "Epoch:     22, Avg. loss: 80634.6288, Latent loss: 396.1104, Reconstruction loss: 0.8132\n",
      "Epoch:     24, Avg. loss: 80586.9756, Latent loss: 386.8489, Reconstruction loss: 0.6918\n",
      "Epoch:     26, Avg. loss: 80297.4495, Latent loss: 398.5592, Reconstruction loss: 0.8126\n",
      "Epoch:     28, Avg. loss: 80297.0691, Latent loss: 400.5859, Reconstruction loss: 0.7505\n",
      "Epoch:     30, Avg. loss: 77353.2259, Latent loss: 410.8401, Reconstruction loss: 0.5725\n"
     ]
    },
    {
     "data": {
      "image/png": "[encoded data removed]",
      "text/plain": [
       "<matplotlib.figure.Figure at 0x7f5f3f9e6320>"
      ]
     },
     "metadata": {
      "tags": []
     },
     "output_type": "display_data"
    },
    {
     "name": "stdout",
     "output_type": "stream",
     "text": [
      "Model saved in path: ./VAE/misc/LOSGS_vae.ckpt\n"
     ]
    }
   ],
   "source": [
    "config = {'name' : 'LOSGS_vae',\n",
    "          'ndims': x_onehot.shape[1],\n",
    "          'nlatent': 8,\n",
    "          'encoder': {'h1': 100,'h2': 50},\n",
    "          'decoder': {'h1': 50, 'h2': 100},\n",
    "          'weights': {'reconstruction':100000, 'latent':0.00001},\n",
    "          'path': {'save':'./VAE/misc/', 'load':'./VAE/misc/'}\n",
    "          }\n",
    "\n",
    "# Build model.\n",
    "model = VariationalAutoencoder(config)\n",
    "\n",
    "# Start training\n",
    "train(model, x_onehot, learning_rate=0.0001, batch_size=16, epochs=30)\n",
    "\n",
    "model.save()"
   ]
  },
  {
   "cell_type": "code",
   "execution_count": 0,
   "metadata": {
    "colab": {},
    "colab_type": "code",
    "id": "uRDbQWVEidfV"
   },
   "outputs": [],
   "source": [
    "df = test_df[['LOS_DAYS']]\n",
    "x = np.array(df).astype(int)\n",
    "x_onehot_los = np.zeros((x.shape[0],33), dtype=np.int8)\n",
    "for i in range(x.shape[0]):\n",
    "  if x[i] >31:\n",
    "    x_onehot_los[i,32]=1\n",
    "  else:\n",
    "    x_onehot_los[i,x[i]]=1"
   ]
  },
  {
   "cell_type": "code",
   "execution_count": 0,
   "metadata": {
    "colab": {},
    "colab_type": "code",
    "id": "fU95l6VSidh7"
   },
   "outputs": [],
   "source": [
    "df = test_df[['GROUP_SIZE']]\n",
    "x = np.array(df).astype(int)\n",
    "x_onehot_GS = np.zeros((x.shape[0],5), dtype=np.int8)\n",
    "for i in range(x.shape[0]):\n",
    "  if x[i] >4:\n",
    "    x_onehot_GS[i,4]=1\n",
    "  else:\n",
    "    x_onehot_GS[i,x[i]-1]=1"
   ]
  },
  {
   "cell_type": "code",
   "execution_count": 0,
   "metadata": {
    "colab": {},
    "colab_type": "code",
    "id": "3EWmS1AxxDZR"
   },
   "outputs": [],
   "source": [
    "x_onehot = np.concatenate((x_onehot_los, x_onehot_GS), axis=1)"
   ]
  },
  {
   "cell_type": "code",
   "execution_count": 0,
   "metadata": {
    "colab": {
     "base_uri": "https://localhost:8080/",
     "height": 51
    },
    "colab_type": "code",
    "id": "e2DNP1bGxNUD",
    "outputId": "c3662044-7e74-44d3-be11-4e5e9a3cfeb0"
   },
   "outputs": [
    {
     "name": "stdout",
     "output_type": "stream",
     "text": [
      "INFO:tensorflow:Restoring parameters from ./VAE/misc/LOSGS_vae.ckpt\n",
      "Accuracy: 32.74%\n"
     ]
    }
   ],
   "source": [
    "model.load()\n",
    "acc = model.score(x_onehot)\n",
    "print('Accuracy: {0:>6.2%}'.format(acc))"
   ]
  },
  {
   "cell_type": "code",
   "execution_count": 0,
   "metadata": {
    "colab": {},
    "colab_type": "code",
    "id": "akX92SkdVFWb"
   },
   "outputs": [],
   "source": []
  }
 ],
 "metadata": {
  "accelerator": "GPU",
  "colab": {
   "collapsed_sections": [],
   "name": "VAE_playground.ipynb",
   "provenance": [],
   "version": "0.3.2"
  },
  "kernelspec": {
   "display_name": "Python 3",
   "language": "python",
   "name": "python3"
  },
  "language_info": {
   "codemirror_mode": {
    "name": "ipython",
    "version": 3
   },
   "file_extension": ".py",
   "mimetype": "text/x-python",
   "name": "python",
   "nbconvert_exporter": "python",
   "pygments_lexer": "ipython3",
   "version": "3.6.5"
  }
 },
 "nbformat": 4,
 "nbformat_minor": 1
}
