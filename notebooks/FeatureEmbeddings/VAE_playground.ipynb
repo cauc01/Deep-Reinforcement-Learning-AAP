{
 "cells": [
  {
   "cell_type": "markdown",
   "metadata": {
    "colab_type": "text",
    "id": "DbuqcOddRn9q"
   },
   "source": [
    "# Testing Variational Autoencoder on synthetic data\n"
   ]
  },
  {
   "cell_type": "code",
   "execution_count": 1,
   "metadata": {
    "colab": {},
    "colab_type": "code",
    "id": "O9FOBtamRSZy"
   },
   "outputs": [],
   "source": [
    "import numpy as np\n",
    "import pandas as pd\n",
    "import seaborn as sns\n",
    "import statistics as s\n",
    "import matplotlib.pyplot as plt"
   ]
  },
  {
   "cell_type": "code",
   "execution_count": 2,
   "metadata": {
    "colab": {},
    "colab_type": "code",
    "id": "pOMHaDgqRWNM"
   },
   "outputs": [],
   "source": [
    "import tensorflow as tf\n",
    "from tensorflow import contrib\n",
    "from tensorflow.contrib import layers\n",
    "from tensorflow.contrib.slim import fully_connected"
   ]
  },
  {
   "cell_type": "code",
   "execution_count": 3,
   "metadata": {
    "colab": {},
    "colab_type": "code",
    "id": "IXyY9_6lSNTH"
   },
   "outputs": [],
   "source": [
    "class VariationalAutoencoder(object):\n",
    "    \"\"\"Varational Autoencoder.\n",
    "    \"\"\"\n",
    "\n",
    "    def __init__(self, config):\n",
    "        \"\"\"Initializes a VAE.\n",
    "        Args:\n",
    "            config(dict): JSON FILE\n",
    "            name(string): naming the session (default: model)\n",
    "        \"\"\"\n",
    "        self._name = config['name']\n",
    "        self._ndims = config['ndims']\n",
    "        self._nlatent = config['nlatent']\n",
    "        \n",
    "        # Paths\n",
    "        self._save_path = config['path']['save']\n",
    "        self._load_path = config['path']['load']\n",
    "        \n",
    "        # Architecture\n",
    "        self._encoder_h1 = config['encoder']['h1']\n",
    "        self._encoder_h2 = config['encoder']['h2']\n",
    "        self._decoder_h1 = config['decoder']['h1']\n",
    "        self._decoder_h2 = config['decoder']['h2']\n",
    "        \n",
    "        # loss weights (Ad-hoc)\n",
    "        self._reconstruction_loss_weight = config['weights']['reconstruction']\n",
    "        self._latent_loss_weight = config['weights']['latent']\n",
    "\n",
    "        # Create session\n",
    "        self.session = tf.Session(config=tf.ConfigProto(log_device_placement=True))\n",
    "        self.x_placeholder = tf.placeholder(tf.float32, [None, self._ndims])\n",
    "        self.learning_rate_placeholder = tf.placeholder(tf.float32, [])\n",
    "\n",
    "        # Build graph.\n",
    "        self.z_mean, self.z_log_var = self._encoder(self.x_placeholder)\n",
    "        self.z = self._sample_z(self.z_mean, self.z_log_var)\n",
    "        self.outputs_tensor = self._decoder(self.z)\n",
    "\n",
    "        # Setup loss tensor, predict_tensor, update_op_tensor\n",
    "        self.loss_tensor, self.l, self.r = self.loss(self.outputs_tensor, self.x_placeholder,\n",
    "                                                     self.z_mean, self.z_log_var)\n",
    "\n",
    "        self.update_op_tensor = self.update_op(self.loss_tensor,\n",
    "                                               self.learning_rate_placeholder)\n",
    "\n",
    "        # Initialize all variables.\n",
    "        self.session.run(tf.global_variables_initializer())\n",
    "        \n",
    "        # Add ops to save and restore all the variables.\n",
    "        self.saver = tf.train.Saver()        \n",
    "        \n",
    "\n",
    "    def _sample_z(self, z_mean, z_log_var):\n",
    "        \"\"\"Samples z using reparametrization trick.\n",
    "        Args:\n",
    "            z_mean (tf.Tensor): The latent mean,\n",
    "                tensor of dimension (None, _nlatent)\n",
    "            z_log_var (tf.Tensor): The latent log variance,\n",
    "                tensor of dimension (None, _nlatent)\n",
    "        Returns:\n",
    "            z (tf.Tensor): Random sampled z of dimension (None, _nlatent)\n",
    "        \"\"\"\n",
    "\n",
    "        z = None\n",
    "        \n",
    "        z = z_mean + tf.sqrt(tf.exp(z_log_var)) * tf.random_normal(tf.shape(z_mean), 0, 1, dtype=tf.float32)\n",
    "        return z\n",
    "\n",
    "    def _encoder(self, x):\n",
    "        \"\"\"Encoder block of the network.\n",
    "        Builds a two layer network of fully connected layers, with 100 nodes,\n",
    "        then 50 nodes, and outputs two branches each with _nlatent nodes\n",
    "        representing z_mean and z_log_var. Network illustrated below:\n",
    "                             |-> _nlatent (z_mean)\n",
    "        Input --> 100 --> 50 -\n",
    "                             |-> _nlatent (z_log_var)\n",
    "        Use activation of tf.nn.softplus for hidden layers.\n",
    "        Args:\n",
    "            x (tf.Tensor): The input tensor of dimension (None, _ndims).\n",
    "        Returns:\n",
    "            z_mean(tf.Tensor): The latent mean, tensor of dimension\n",
    "                (None, _nlatent).\n",
    "            z_log_var(tf.Tensor): The latent log variance, tensor of dimension\n",
    "                (None, _nlatent).\n",
    "        \"\"\"\n",
    "        z_mean = None\n",
    "        z_log_var = None\n",
    "\n",
    "        # fully connected layer 1 [input --> 100]\n",
    "        fully_connected_1 = fully_connected(inputs=x, num_outputs=self._encoder_h1, activation_fn=tf.nn.softplus)\n",
    "\n",
    "        # fully connected layer 2 [fl1 --> 50]\n",
    "        fully_connected_2 = fully_connected(inputs=fully_connected_1, num_outputs=self._encoder_h2, activation_fn=tf.nn.softplus)\n",
    "\n",
    "        # Output layer\n",
    "        output = fully_connected(inputs=fully_connected_2, num_outputs=2 * self._nlatent, activation_fn=None)\n",
    "\n",
    "        z_mean = output[:, 0:self._nlatent]\n",
    "        z_log_var = output[:, self._nlatent:]\n",
    "\n",
    "        return z_mean, z_log_var\n",
    "\n",
    "    def _decoder(self, z):\n",
    "        \"\"\"From a sampled z, decode back into image.\n",
    "        Builds a three layer network of fully connected layers,\n",
    "        with 50, 100, _ndims nodes.\n",
    "        z (_nlatent) --> 50 --> 100 --> _ndims.\n",
    "        Use activation of tf.nn.softplus for hidden layers.\n",
    "        Args:\n",
    "            z(tf.Tensor): z from _sample_z of dimension (None, _nlatent).\n",
    "        Returns:\n",
    "            f(tf.Tensor): Decoded features, tensor of dimension (None, _ndims).\n",
    "        \"\"\"\n",
    "\n",
    "        f = None\n",
    "        \n",
    "        # fully connected layer 1 [_nlatent --> 50]\n",
    "        fully_connected_1 = fully_connected(inputs=z, num_outputs=self._decoder_h1, activation_fn=tf.nn.softplus)\n",
    "\n",
    "        # fully connected layer 2 [50 --> 100]\n",
    "        fully_connected_2 = fully_connected(inputs=fully_connected_1, num_outputs=self._decoder_h2, activation_fn=tf.nn.softplus)\n",
    "\n",
    "        # Output layer\n",
    "        f = fully_connected(inputs=fully_connected_2, num_outputs=self._ndims, activation_fn=tf.nn.softmax)\n",
    "        return f\n",
    "\n",
    "    def _latent_loss(self, z_mean, z_log_var):\n",
    "        \"\"\"Constructs the latent loss.\n",
    "        Args:\n",
    "            z_mean(tf.Tensor): Tensor of dimension (None, _nlatent)\n",
    "            z_log_var(tf.Tensor): Tensor of dimension (None, _nlatent)\n",
    "        Returns:\n",
    "            latent_loss(tf.Tensor): A scalar Tensor of dimension ()\n",
    "                containing the latent loss.\n",
    "        \"\"\"\n",
    "        latent_loss = None\n",
    "        \n",
    "        latent_loss = tf.reduce_mean(0.5 * tf.reduce_sum(-1 - z_log_var + (tf.square(z_mean) + tf.exp(z_log_var)), 1))\n",
    "        return latent_loss\n",
    "\n",
    "    def _reconstruction_loss(self, f, x_gt):\n",
    "        \"\"\"Constructs the reconstruction loss, assuming Gaussian distribution.\n",
    "        Args:\n",
    "            f(tf.Tensor): Predicted score for each example, dimension (None,\n",
    "                _ndims).\n",
    "            x_gt(tf.Tensor): Ground truth for each example, dimension (None,\n",
    "                _ndims).\n",
    "        Returns:\n",
    "            recon_loss(tf.Tensor): A scalar Tensor for dimension ()\n",
    "                containing the reconstruction loss.\n",
    "        \"\"\"\n",
    "        recon_loss = None\n",
    "        \n",
    "        recon_loss = tf.reduce_mean(tf.reduce_sum(tf.square(f - x_gt), axis=1))\n",
    "        \n",
    "        return recon_loss\n",
    "\n",
    "    def loss(self, f, x_gt, z_mean, z_var):\n",
    "        \"\"\"Computes the total loss.\n",
    "        Computes the sum of latent and reconstruction loss.\n",
    "        Args:\n",
    "            f (tf.Tensor): Decoded image for each example, dimension (None,\n",
    "                _ndims).\n",
    "            x_gt (tf.Tensor): Ground truth for each example, dimension (None,\n",
    "                _ndims)\n",
    "            z_mean (tf.Tensor): The latent mean,\n",
    "                tensor of dimension (None, _nlatent)\n",
    "            z_log_var (tf.Tensor): The latent log variance,\n",
    "                tensor of dimension (None, _nlatent)\n",
    "        Returns:\n",
    "            total_loss: Tensor for dimension (). Sum of\n",
    "                latent_loss and reconstruction loss.\n",
    "        \"\"\"\n",
    "        total_loss = None\n",
    "        \n",
    "        latent_loss = self._latent_loss(z_mean, z_var)\n",
    "        rec_loss = self._reconstruction_loss(f, x_gt)\n",
    "        \n",
    "        total_loss = self._latent_loss_weight*latent_loss + self._reconstruction_loss_weight*rec_loss\n",
    "        \n",
    "        return total_loss, latent_loss, rec_loss\n",
    "\n",
    "    def update_op(self, loss, learning_rate):\n",
    "        \"\"\"Creates the update optimizer.\n",
    "        Use tf.train.AdamOptimizer to obtain the update op.\n",
    "        Args:\n",
    "            loss(tf.Tensor): Tensor of shape () containing the loss function.\n",
    "            learning_rate(tf.Tensor): Tensor of shape (). Learning rate for\n",
    "                gradient descent.\n",
    "        Returns:\n",
    "            train_op(tf.Operation): Update opt tensorflow operation.\n",
    "        \"\"\"\n",
    "        train_op = None\n",
    "        \n",
    "        train_op = tf.train.AdamOptimizer(learning_rate=learning_rate).minimize(loss)\n",
    "        return train_op\n",
    "\n",
    "    def generate_samples(self, z_np):\n",
    "        \"\"\"Generates random samples from the provided z_np.\n",
    "        Args:\n",
    "            z_np(numpy.ndarray): Numpy array of dimension\n",
    "                (batch_size, _nlatent).\n",
    "        Returns:\n",
    "            out(numpy.ndarray): The sampled images (numpy.ndarray) of\n",
    "                dimension (batch_size, _ndims).\n",
    "        \"\"\"\n",
    "        out = None\n",
    "        \n",
    "        out = self.outputs_tensor.eval(session=self.session, feed_dict={self.z: z_np})\n",
    "        return out\n",
    "      \n",
    "    def encode_samples(self, x):\n",
    "        \"\"\"Encode samples from the provided features\n",
    "        Args:\n",
    "            x(numpy.ndarray): Numpy array of dimension\n",
    "                (batch_size, _ndims).\n",
    "        Returns:\n",
    "            embeddings(numpy.ndarray): The embeddings (numpy.ndarray) of\n",
    "                dimension (batch_size, _nlatent).\n",
    "        \"\"\"\n",
    "        embeddings = None\n",
    "        \n",
    "        embeddings = self.z.eval(session=self.session, feed_dict={self.x_placeholder: x})\n",
    "        return embeddings\n",
    "      \n",
    "    def model_accuracy(self):\n",
    "        \"\"\"Creates accuracy tensor.\n",
    "        Use tf.train.AdamOptimizer to obtain the update op.\n",
    "        Returns:\n",
    "            accuracy(tf.Tensor) : Accuracy tensor, dimensions ().\n",
    "        \"\"\"\n",
    "        x_decoded_tensor = tf.cast(tf.argmax(self.outputs_tensor, axis=1), tf.int64)\n",
    "        x_true_tensor = tf.cast(tf.argmax(self.x_placeholder, axis=1), tf.int64)\n",
    "        correct_prediction = tf.equal(x_decoded_tensor, x_true_tensor)\n",
    "        accuracy = tf.reduce_mean(tf.cast(correct_prediction, tf.float32))\n",
    "        return accuracy\n",
    "\n",
    "    def score(self, x):\n",
    "        \"\"\"Scoring function.\n",
    "        Score is the evaluation of accuracy tensor\n",
    "\n",
    "        Args:\n",
    "            x(np.array): The feature vector, dimension(batch, _ndims)\n",
    "            y(np.array): The label vector, dimension(batch, )\n",
    "        Returns:\n",
    "            score(float): evaluated accuracy value.\n",
    "        \"\"\"\n",
    "        acc = self.model_accuracy()\n",
    "        score = acc.eval(session=self.session, feed_dict={self.x_placeholder: x})\n",
    "        return score\n",
    "      \n",
    "    def load(self, path=None, name=None, ext='.ckpt'):\n",
    "        \"\"\"Scoring function.\n",
    "        Score is the evaluation of accuracy tensor\n",
    "\n",
    "        Args:\n",
    "            x(np.array): The feature vector, dimension(batch, _ndims)\n",
    "            y(np.array): The label vector, dimension(batch, )\n",
    "        Returns:\n",
    "            score(float): evaluated accuracy value.\n",
    "        \"\"\"\n",
    "        if not name:\n",
    "            name = self._name\n",
    "          \n",
    "        if not path:\n",
    "            path = self._load_path\n",
    "          \n",
    "        self.saver.restore(self.session, (path+name+ext))\n",
    "    \n",
    "    \n",
    "    def save(self, path=None , name=None, ext='.ckpt'):\n",
    "        \"\"\"Scoring function.\n",
    "        Score is the evaluation of accuracy tensor\n",
    "\n",
    "        Args:\n",
    "            x(np.array): The feature vector, dimension(batch, _ndims)\n",
    "            y(np.array): The label vector, dimension(batch, )\n",
    "        Returns:\n",
    "            score(float): evaluated accuracy value.\n",
    "        \"\"\"\n",
    "        if not name:\n",
    "            name = self._name\n",
    "        \n",
    "        if not path:\n",
    "            path = self._save_path\n",
    "          \n",
    "        save_path = self.saver.save(self.session, (path+name+ext))\n",
    "        print(\"Model saved in path: %s\" % save_path)"
   ]
  },
  {
   "cell_type": "code",
   "execution_count": 4,
   "metadata": {
    "colab": {},
    "colab_type": "code",
    "id": "XX_YtaYkSUvy"
   },
   "outputs": [],
   "source": [
    "def running_mean(x, N):\n",
    "    cumsum = np.cumsum(np.insert(x, 0, 0)) \n",
    "    return (cumsum[N:] - cumsum[:-N]) / float(N)"
   ]
  },
  {
   "cell_type": "code",
   "execution_count": 5,
   "metadata": {
    "colab": {},
    "colab_type": "code",
    "id": "nlFw8am2Sccy"
   },
   "outputs": [],
   "source": [
    "def make_batches(pd, batch_size):\n",
    "    containers = int(np.floor((pd[0].shape[0]) / batch_size))\n",
    "    remaining = ((pd[0].shape[0]) % batch_size)\n",
    "    batch = []\n",
    "    for i in range(0, containers):\n",
    "        batch_x = pd[0][i * batch_size:((i + 1) * batch_size), :]\n",
    "        batch.append([batch_x])\n",
    "    if (remaining):\n",
    "        batch_x = pd[0][(i + 1) * batch_size:(i + 1) * batch_size + remaining, :]\n",
    "        batch.append([batch_x])\n",
    "    return batch"
   ]
  },
  {
   "cell_type": "code",
   "execution_count": 6,
   "metadata": {
    "colab": {},
    "colab_type": "code",
    "id": "Z0JZRb8rS3qk"
   },
   "outputs": [],
   "source": [
    "def train(model, dataset, learning_rate=0.0005, batch_size=16,\n",
    "          epochs=20):\n",
    "    \"\"\"Implements the training loop of mini-batch gradient descent.\n",
    "    Performs mini-batch gradient descent with the indicated batch_size and\n",
    "    learning_rate.\n",
    "    Args:\n",
    "        model(VariationalAutoencoder): Initialized VAE model.\n",
    "        mnist_dataset: Mnist dataset.\n",
    "        learning_rate(float): Learning rate.\n",
    "        batch_size(int): Batch size used for training.\n",
    "        num_steps(int): Number of steps to run the update ops.\n",
    "    \"\"\"\n",
    "    avg_loss = []\n",
    "    \n",
    "    for epoch in range(1, epochs+1):\n",
    "      \n",
    "        # shuffle the data after every epoch      \n",
    "        np.random.shuffle(dataset)\n",
    "        \n",
    "        # make batches\n",
    "        batches = make_batches([dataset],batch_size)\n",
    "        \n",
    "        # cache\n",
    "        batch_loss = []\n",
    "        \n",
    "        # iterate over all batches\n",
    "        for batch in batches:\n",
    "            batch_x = batch[0]\n",
    "            \n",
    "            feed_dict_train = {model.x_placeholder: batch_x,\n",
    "                               model.learning_rate_placeholder: learning_rate}\n",
    "            \n",
    "            session_list = [model.update_op_tensor, model.loss_tensor, model.l, model.r]\n",
    "            \n",
    "            \n",
    "            # Running the model session\n",
    "            _, loss_val, l, r = model.session.run(session_list,\n",
    "                                               feed_dict=feed_dict_train)\n",
    "            \n",
    "            # cache updates\n",
    "            batch_loss.append(loss_val)\n",
    "\n",
    "            \n",
    "        # average loss calculation through cache\n",
    "        average_loss_value = sum(batch_loss) / float(len(batch_loss))\n",
    "        avg_loss.append(average_loss_value)\n",
    "        \n",
    "        \"Display : verbose\"\n",
    "        if epoch % 2 == 0 or epoch == epochs:\n",
    "\n",
    "            # Message for printing.\n",
    "            msg = \"Epoch: {0:>6}, Avg. loss: {1:>6.4f}, Latent loss: {2:>6.4f}, Reconstruction loss: {3:>6.4f}\"\n",
    "\n",
    "            # Print it.\n",
    "            print(msg.format(epoch, average_loss_value, l, r))\n",
    "\n",
    "        if epoch == epochs:\n",
    "\n",
    "            import matplotlib.pyplot as plt\n",
    "            import seaborn as sns\n",
    "\n",
    "            sns.set()\n",
    "            plt.figure(figsize = (10,6))\n",
    "            \n",
    "            plt.plot(running_mean(avg_loss,1))\n",
    "\n",
    "            plt.xlabel('Steps')\n",
    "            plt.ylabel('Loss value')\n",
    "            plt.title('Loss Curve')\n",
    "            plt.show()\n",
    "            \n",
    "            "
   ]
  },
  {
   "cell_type": "code",
   "execution_count": 7,
   "metadata": {
    "colab": {},
    "colab_type": "code",
    "id": "7W9kMgJ7UswT"
   },
   "outputs": [],
   "source": [
    "def get_synthetic_data(classes=2, sample_size=1000):\n",
    "\n",
    "    syn_onehot = np.zeros((classes*sample_size,classes), dtype=np.int8)\n",
    "    for i in range(classes):\n",
    "        syn_onehot[i*sample_size:(i*sample_size)+sample_size, i] = 1\n",
    "    return syn_onehot"
   ]
  },
  {
   "cell_type": "code",
   "execution_count": 9,
   "metadata": {
    "colab": {
     "base_uri": "https://localhost:8080/",
     "height": 471
    },
    "colab_type": "code",
    "id": "gluX1UUFVHgp",
    "outputId": "648aadfa-1995-4ed3-db54-99ec88014ac4"
   },
   "outputs": [
    {
     "name": "stdout",
     "output_type": "stream",
     "text": [
      "Epoch:      2, Avg. loss: 0.4679, Latent loss: 369.1716, Reconstruction loss: 0.0002\n"
     ]
    },
    {
     "data": {
      "image/png": "[encoded data removed]",
      "text/plain": [
       "<Figure size 720x432 with 1 Axes>"
      ]
     },
     "metadata": {},
     "output_type": "display_data"
    },
    {
     "name": "stdout",
     "output_type": "stream",
     "text": [
      "Model saved in path: ./synthetic/synthetic_vae.ckpt\n"
     ]
    }
   ],
   "source": [
    "# Data\n",
    "syn_onehot = get_synthetic_data(10, 1000)\n",
    "\n",
    "# configuration dictionary\n",
    "config = {'name' : 'synthetic_vae',\n",
    "          'ndims': syn_onehot.shape[1],\n",
    "          'nlatent': 10,\n",
    "          'encoder': {'h1': 100,'h2': 50},\n",
    "          'decoder': {'h1': 50, 'h2': 100},\n",
    "          'weights': {'reconstruction':1000, 'latent':0.00001},\n",
    "          'path': {'save':'./synthetic/', 'load':'./synthetic/'}\n",
    "          }          \n",
    "\n",
    "# Build model.\n",
    "model = VariationalAutoencoder(config)\n",
    "\n",
    "# Start training\n",
    "train(model, syn_onehot, learning_rate=0.0005, batch_size=16, epochs=2)\n",
    "\n",
    "# Save\n",
    "model.save()"
   ]
  },
  {
   "cell_type": "code",
   "execution_count": 10,
   "metadata": {
    "colab": {
     "base_uri": "https://localhost:8080/",
     "height": 51
    },
    "colab_type": "code",
    "id": "JPhOFvjl0oMz",
    "outputId": "33b3164e-a579-44ad-e0cf-ec058384ea75"
   },
   "outputs": [
    {
     "name": "stdout",
     "output_type": "stream",
     "text": [
      "INFO:tensorflow:Restoring parameters from ./synthetic/synthetic_vae.ckpt\n",
      "Accuracy: 100.00%\n"
     ]
    }
   ],
   "source": [
    "model.load()\n",
    "acc = model.score(get_synthetic_data(10, 1000))\n",
    "print('Accuracy: {0:>6.2%}'.format(acc))"
   ]
  },
  {
   "cell_type": "code",
   "execution_count": 0,
   "metadata": {
    "colab": {},
    "colab_type": "code",
    "id": "0MWlNGRqBNIj"
   },
   "outputs": [],
   "source": [
    "embeddings = model.encode_samples(get_synthetic_data(10, 1000))"
   ]
  },
  {
   "cell_type": "markdown",
   "metadata": {},
   "source": [
    "# DeepAir Dataset"
   ]
  },
  {
   "cell_type": "markdown",
   "metadata": {
    "colab_type": "text",
    "id": "08vhTtomRv2L"
   },
   "source": [
    "### Environment Setup\n",
    "\n",
    "- Download 2M dataset from the server.\n"
   ]
  },
  {
   "cell_type": "code",
   "execution_count": 11,
   "metadata": {
    "colab": {
     "base_uri": "https://localhost:8080/",
     "height": 34
    },
    "colab_type": "code",
    "id": "R-ciIK0FQj29",
    "outputId": "8772abe8-1af2-4fe1-855a-f76fcc6df100",
    "scrolled": false
   },
   "outputs": [
    {
     "name": "stdout",
     "output_type": "stream",
     "text": [
      "\u001b[1;32m\n",
      "Downloading dataset - 2M Data [Author : Naman Shukla @ UIUC] ...\n",
      "\u001b[0m\n",
      "\u001b[1;36m\n",
      "connecting server..\n",
      "\u001b[0m\n",
      "--2019-01-09 19:40:14--  https://drive.google.com/uc?export=download&id=1j7PNpD24Qoc9aA5843GYUuyKZzRXIVnt\n",
      "Resolving drive.google.com (drive.google.com)... 173.194.198.102, 173.194.198.138, 173.194.198.113, ...\n",
      "Connecting to drive.google.com (drive.google.com)|173.194.198.102|:443... connected.\n",
      "HTTP request sent, awaiting response... 302 Moved Temporarily\n",
      "Location: https://doc-0o-a0-docs.googleusercontent.com/docs/securesc/ha0ro937gcuc7l7deffksulhg5h7mbp1/mvah6rccg5br7i0jfththodj0nbrep5m/1547056800000/08923193926105896987/*/1j7PNpD24Qoc9aA5843GYUuyKZzRXIVnt?e=download [following]\n",
      "Warning: wildcards not supported in HTTP.\n",
      "--2019-01-09 19:40:15--  https://doc-0o-a0-docs.googleusercontent.com/docs/securesc/ha0ro937gcuc7l7deffksulhg5h7mbp1/mvah6rccg5br7i0jfththodj0nbrep5m/1547056800000/08923193926105896987/*/1j7PNpD24Qoc9aA5843GYUuyKZzRXIVnt?e=download\n",
      "Resolving doc-0o-a0-docs.googleusercontent.com (doc-0o-a0-docs.googleusercontent.com)... 108.177.112.132, 2607:f8b0:4001:c12::84\n",
      "Connecting to doc-0o-a0-docs.googleusercontent.com (doc-0o-a0-docs.googleusercontent.com)|108.177.112.132|:443... connected.\n",
      "HTTP request sent, awaiting response... 200 OK\n",
      "Length: unspecified [application/zip]\n",
      "Saving to: ‘dataset.zip’\n",
      "\n",
      "dataset.zip             [ <=>                ]   4.43M  --.-KB/s    in 0.08s   \n",
      "\n",
      "2019-01-09 19:40:15 (58.4 MB/s) - ‘dataset.zip’ saved [4643682]\n",
      "\n",
      "Archive:  dataset.zip\n",
      "  inflating: data/2M_Data.csv        \n",
      "\u001b[1;36m\n",
      "download finished!\n",
      "\u001b[0m\n"
     ]
    }
   ],
   "source": [
    "!bash dataset.sh"
   ]
  },
  {
   "cell_type": "markdown",
   "metadata": {},
   "source": [
    "#### Loading data and creating testset and training set"
   ]
  },
  {
   "cell_type": "code",
   "execution_count": 12,
   "metadata": {
    "colab": {
     "base_uri": "https://localhost:8080/",
     "height": 51
    },
    "colab_type": "code",
    "id": "JPxnxkQWYnU8",
    "outputId": "77274ea4-d516-42ff-8349-f506164f2acd"
   },
   "outputs": [
    {
     "name": "stdout",
     "output_type": "stream",
     "text": [
      "Train data shape : (31223, 85)\n",
      "Test data shape : (13096, 85)\n"
     ]
    }
   ],
   "source": [
    "data_path = './data/2M_Data.csv'\n",
    "data = pd.read_csv(data_path)\n",
    "train_df = data[data['TRAIN_TEST']=='TRAIN']\n",
    "test_df = data[data['TRAIN_TEST']=='TEST']\n",
    "print('Train data shape : {}'.format(train_df.shape))\n",
    "print('Test data shape : {}'.format(test_df.shape))"
   ]
  },
  {
   "cell_type": "code",
   "execution_count": 14,
   "metadata": {},
   "outputs": [
    {
     "data": {
      "text/html": [
       "<div>\n",
       "<style scoped>\n",
       "    .dataframe tbody tr th:only-of-type {\n",
       "        vertical-align: middle;\n",
       "    }\n",
       "\n",
       "    .dataframe tbody tr th {\n",
       "        vertical-align: top;\n",
       "    }\n",
       "\n",
       "    .dataframe thead th {\n",
       "        text-align: right;\n",
       "    }\n",
       "</style>\n",
       "<table border=\"1\" class=\"dataframe\">\n",
       "  <thead>\n",
       "    <tr style=\"text-align: right;\">\n",
       "      <th></th>\n",
       "      <th>Row Number</th>\n",
       "      <th>ADT</th>\n",
       "      <th>CHD</th>\n",
       "      <th>INF</th>\n",
       "      <th>advanced_purchase</th>\n",
       "      <th>arrivalairportcode</th>\n",
       "      <th>arrivalcitycode</th>\n",
       "      <th>arrivaldate</th>\n",
       "      <th>arrivaldate_cos_dow</th>\n",
       "      <th>arrivaldate_cos_tod</th>\n",
       "      <th>...</th>\n",
       "      <th>utctimestamp_sin_woy</th>\n",
       "      <th>bag_paid_revenue</th>\n",
       "      <th>bag_paid_quantity</th>\n",
       "      <th>bag_paid_price</th>\n",
       "      <th>GROUP_SIZE</th>\n",
       "      <th>LOS_DAYS</th>\n",
       "      <th>AP_DAYS</th>\n",
       "      <th>DPTR_DOW</th>\n",
       "      <th>BAG_PRICE_ROUNDED</th>\n",
       "      <th>TRAIN_TEST</th>\n",
       "    </tr>\n",
       "  </thead>\n",
       "  <tbody>\n",
       "    <tr>\n",
       "      <th>0</th>\n",
       "      <td>0</td>\n",
       "      <td>2</td>\n",
       "      <td>0</td>\n",
       "      <td>0</td>\n",
       "      <td>0.000000</td>\n",
       "      <td>25</td>\n",
       "      <td>25</td>\n",
       "      <td>2018-09-19 17:35</td>\n",
       "      <td>-0.222521</td>\n",
       "      <td>-0.258819</td>\n",
       "      <td>...</td>\n",
       "      <td>-0.992709</td>\n",
       "      <td>NaN</td>\n",
       "      <td>NaN</td>\n",
       "      <td>NaN</td>\n",
       "      <td>2</td>\n",
       "      <td>0</td>\n",
       "      <td>0</td>\n",
       "      <td>4-Wed</td>\n",
       "      <td>30</td>\n",
       "      <td>TRAIN</td>\n",
       "    </tr>\n",
       "    <tr>\n",
       "      <th>1</th>\n",
       "      <td>1</td>\n",
       "      <td>1</td>\n",
       "      <td>0</td>\n",
       "      <td>0</td>\n",
       "      <td>0.084932</td>\n",
       "      <td>25</td>\n",
       "      <td>25</td>\n",
       "      <td>2018-10-20 14:35</td>\n",
       "      <td>-0.222521</td>\n",
       "      <td>-0.866025</td>\n",
       "      <td>...</td>\n",
       "      <td>-0.992709</td>\n",
       "      <td>NaN</td>\n",
       "      <td>NaN</td>\n",
       "      <td>NaN</td>\n",
       "      <td>1</td>\n",
       "      <td>0</td>\n",
       "      <td>31</td>\n",
       "      <td>7-Sat</td>\n",
       "      <td>25</td>\n",
       "      <td>TRAIN</td>\n",
       "    </tr>\n",
       "    <tr>\n",
       "      <th>2</th>\n",
       "      <td>2</td>\n",
       "      <td>1</td>\n",
       "      <td>0</td>\n",
       "      <td>0</td>\n",
       "      <td>0.084932</td>\n",
       "      <td>25</td>\n",
       "      <td>25</td>\n",
       "      <td>2018-10-20 14:35</td>\n",
       "      <td>-0.222521</td>\n",
       "      <td>-0.866025</td>\n",
       "      <td>...</td>\n",
       "      <td>-0.992709</td>\n",
       "      <td>NaN</td>\n",
       "      <td>NaN</td>\n",
       "      <td>NaN</td>\n",
       "      <td>1</td>\n",
       "      <td>0</td>\n",
       "      <td>31</td>\n",
       "      <td>7-Sat</td>\n",
       "      <td>25</td>\n",
       "      <td>TRAIN</td>\n",
       "    </tr>\n",
       "    <tr>\n",
       "      <th>3</th>\n",
       "      <td>3</td>\n",
       "      <td>1</td>\n",
       "      <td>0</td>\n",
       "      <td>0</td>\n",
       "      <td>0.030137</td>\n",
       "      <td>25</td>\n",
       "      <td>25</td>\n",
       "      <td>2018-09-30 14:20</td>\n",
       "      <td>0.623490</td>\n",
       "      <td>-0.866025</td>\n",
       "      <td>...</td>\n",
       "      <td>-0.992709</td>\n",
       "      <td>NaN</td>\n",
       "      <td>NaN</td>\n",
       "      <td>NaN</td>\n",
       "      <td>1</td>\n",
       "      <td>0</td>\n",
       "      <td>11</td>\n",
       "      <td>1-Sun</td>\n",
       "      <td>20</td>\n",
       "      <td>TRAIN</td>\n",
       "    </tr>\n",
       "    <tr>\n",
       "      <th>4</th>\n",
       "      <td>4</td>\n",
       "      <td>1</td>\n",
       "      <td>0</td>\n",
       "      <td>0</td>\n",
       "      <td>0.035616</td>\n",
       "      <td>27</td>\n",
       "      <td>27</td>\n",
       "      <td>2018-10-02 17:20</td>\n",
       "      <td>0.623490</td>\n",
       "      <td>-0.258819</td>\n",
       "      <td>...</td>\n",
       "      <td>-0.992709</td>\n",
       "      <td>NaN</td>\n",
       "      <td>NaN</td>\n",
       "      <td>NaN</td>\n",
       "      <td>1</td>\n",
       "      <td>2</td>\n",
       "      <td>13</td>\n",
       "      <td>3-Tue</td>\n",
       "      <td>25</td>\n",
       "      <td>TRAIN</td>\n",
       "    </tr>\n",
       "  </tbody>\n",
       "</table>\n",
       "<p>5 rows × 85 columns</p>\n",
       "</div>"
      ],
      "text/plain": [
       "   Row Number  ADT  CHD  INF  advanced_purchase  arrivalairportcode  \\\n",
       "0           0    2    0    0           0.000000                  25   \n",
       "1           1    1    0    0           0.084932                  25   \n",
       "2           2    1    0    0           0.084932                  25   \n",
       "3           3    1    0    0           0.030137                  25   \n",
       "4           4    1    0    0           0.035616                  27   \n",
       "\n",
       "   arrivalcitycode       arrivaldate  arrivaldate_cos_dow  \\\n",
       "0               25  2018-09-19 17:35            -0.222521   \n",
       "1               25  2018-10-20 14:35            -0.222521   \n",
       "2               25  2018-10-20 14:35            -0.222521   \n",
       "3               25  2018-09-30 14:20             0.623490   \n",
       "4               27  2018-10-02 17:20             0.623490   \n",
       "\n",
       "   arrivaldate_cos_tod     ...      utctimestamp_sin_woy  bag_paid_revenue  \\\n",
       "0            -0.258819     ...                 -0.992709               NaN   \n",
       "1            -0.866025     ...                 -0.992709               NaN   \n",
       "2            -0.866025     ...                 -0.992709               NaN   \n",
       "3            -0.866025     ...                 -0.992709               NaN   \n",
       "4            -0.258819     ...                 -0.992709               NaN   \n",
       "\n",
       "   bag_paid_quantity  bag_paid_price  GROUP_SIZE  LOS_DAYS  AP_DAYS  DPTR_DOW  \\\n",
       "0                NaN             NaN           2         0        0     4-Wed   \n",
       "1                NaN             NaN           1         0       31     7-Sat   \n",
       "2                NaN             NaN           1         0       31     7-Sat   \n",
       "3                NaN             NaN           1         0       11     1-Sun   \n",
       "4                NaN             NaN           1         2       13     3-Tue   \n",
       "\n",
       "   BAG_PRICE_ROUNDED  TRAIN_TEST  \n",
       "0                 30       TRAIN  \n",
       "1                 25       TRAIN  \n",
       "2                 25       TRAIN  \n",
       "3                 20       TRAIN  \n",
       "4                 25       TRAIN  \n",
       "\n",
       "[5 rows x 85 columns]"
      ]
     },
     "execution_count": 14,
     "metadata": {},
     "output_type": "execute_result"
    }
   ],
   "source": [
    "train_df.head()"
   ]
  },
  {
   "cell_type": "markdown",
   "metadata": {
    "colab_type": "text",
    "id": "FxVnIGkljd7H"
   },
   "source": [
    "## 2M Bag Dataset - Advanced Purchase feature"
   ]
  },
  {
   "cell_type": "markdown",
   "metadata": {},
   "source": [
    "#### Onehot Encoding :\n",
    "For `advanced_purchase` feature, one hot encoding is done. THe days (feature value) will range from $0$ to $365$ and each of them is coded in one-hot fashion. "
   ]
  },
  {
   "cell_type": "code",
   "execution_count": 13,
   "metadata": {
    "colab": {},
    "colab_type": "code",
    "id": "Vkc_HDrIkfeT"
   },
   "outputs": [],
   "source": [
    "df = train_df[['advanced_purchase']]*365\n",
    "x = np.array(df).astype(int)\n",
    "x_onehot = np.zeros((x.shape[0],365), dtype=np.int8)\n",
    "for i in range(x.shape[0]):\n",
    "    x_onehot[i,x[i]]=1"
   ]
  },
  {
   "cell_type": "markdown",
   "metadata": {
    "colab_type": "text",
    "id": "ARQC9SGDpXBE"
   },
   "source": [
    "### Configuration file for the experiment\n",
    "To initiate a `Variational Autoencoder` session (to create an object of the vae class), a configuration dictionary is required. Below is an example of one such configuration dict. "
   ]
  },
  {
   "cell_type": "code",
   "execution_count": 17,
   "metadata": {
    "colab": {},
    "colab_type": "code",
    "id": "85aQehKmDjWA"
   },
   "outputs": [],
   "source": [
    "config = {'name' : 'Advanced_purchase_vae',\n",
    "          'ndims': x_onehot.shape[1],\n",
    "          'nlatent': 10,\n",
    "          'encoder': {'h1': 100,'h2': 50},\n",
    "          'decoder': {'h1': 50, 'h2': 100},\n",
    "          'weights': {'reconstruction':1000, 'latent':0.00001},\n",
    "          'path': {'save':'./AdvancedPurchase/', 'load':'./AdvancedPurchase/'}\n",
    "          }"
   ]
  },
  {
   "cell_type": "markdown",
   "metadata": {},
   "source": [
    "#### Training VAE model\n",
    "training on `Advanced purchase` to find feature embeddings in latent space"
   ]
  },
  {
   "cell_type": "code",
   "execution_count": 18,
   "metadata": {
    "colab": {},
    "colab_type": "code",
    "id": "4dPxGzMKks_G",
    "scrolled": false
   },
   "outputs": [
    {
     "name": "stdout",
     "output_type": "stream",
     "text": [
      "Epoch:      2, Avg. loss: 350.5729, Latent loss: 402.9509, Reconstruction loss: 0.1445\n",
      "Epoch:      4, Avg. loss: 333.2232, Latent loss: 275.5101, Reconstruction loss: 0.5870\n",
      "Epoch:      6, Avg. loss: 339.7876, Latent loss: 275.8636, Reconstruction loss: 0.4342\n",
      "Epoch:      8, Avg. loss: 347.8410, Latent loss: 236.5086, Reconstruction loss: 0.2904\n",
      "Epoch:     10, Avg. loss: 365.6545, Latent loss: 177.6088, Reconstruction loss: 0.3057\n",
      "Epoch:     12, Avg. loss: 357.3166, Latent loss: 223.1665, Reconstruction loss: 0.2894\n",
      "Epoch:     14, Avg. loss: 356.4448, Latent loss: 155.1427, Reconstruction loss: 0.2894\n",
      "Epoch:     16, Avg. loss: 343.7939, Latent loss: 215.5603, Reconstruction loss: 0.1448\n",
      "Epoch:     18, Avg. loss: 335.0257, Latent loss: 136.9842, Reconstruction loss: 0.5790\n",
      "Epoch:     20, Avg. loss: 306.0880, Latent loss: 170.6087, Reconstruction loss: 0.1446\n",
      "Epoch:     22, Avg. loss: 309.7478, Latent loss: 186.9756, Reconstruction loss: 0.4342\n",
      "Epoch:     24, Avg. loss: 308.9025, Latent loss: 130.7771, Reconstruction loss: 0.5754\n",
      "Epoch:     25, Avg. loss: 295.1403, Latent loss: 174.1818, Reconstruction loss: 0.4334\n"
     ]
    },
    {
     "data": {
      "image/png": "[encoded data removed]",
      "text/plain": [
       "<Figure size 720x432 with 1 Axes>"
      ]
     },
     "metadata": {},
     "output_type": "display_data"
    },
    {
     "name": "stdout",
     "output_type": "stream",
     "text": [
      "Model saved in path: ./AdvancedPurchase/Advanced_purchase_vae.ckpt\n"
     ]
    }
   ],
   "source": [
    "# Build model.\n",
    "model = VariationalAutoencoder(config)\n",
    "\n",
    "# Start training\n",
    "train(model, x_onehot, learning_rate=0.0005, batch_size=16, epochs=25)\n",
    "\n",
    "# Save\n",
    "model.save()"
   ]
  },
  {
   "cell_type": "code",
   "execution_count": 19,
   "metadata": {
    "colab": {
     "base_uri": "https://localhost:8080/",
     "height": 34
    },
    "colab_type": "code",
    "id": "ysf-yFD6L9Xm",
    "outputId": "9eb530aa-159a-4543-8912-5ac694273e85"
   },
   "outputs": [
    {
     "name": "stdout",
     "output_type": "stream",
     "text": [
      "INFO:tensorflow:Restoring parameters from ./AdvancedPurchase/Advanced_purchase_vae.ckpt\n"
     ]
    }
   ],
   "source": [
    "model.load()"
   ]
  },
  {
   "cell_type": "markdown",
   "metadata": {},
   "source": [
    "#### Testing VAE"
   ]
  },
  {
   "cell_type": "code",
   "execution_count": 20,
   "metadata": {
    "colab": {
     "base_uri": "https://localhost:8080/",
     "height": 34
    },
    "colab_type": "code",
    "id": "1uxHLlnpN-r_",
    "outputId": "e54d1398-e0a2-416a-fb4b-e21f3a2ca0ff"
   },
   "outputs": [
    {
     "name": "stdout",
     "output_type": "stream",
     "text": [
      "Feature reconstruction accuracy: 71.92%\n"
     ]
    }
   ],
   "source": [
    "# one hot encode the test feature\n",
    "df = test_df[['advanced_purchase']]*365\n",
    "x = np.array(df).astype(int)\n",
    "x_onehot = np.zeros((x.shape[0],365), dtype=np.int8)\n",
    "for i in range(x.shape[0]):\n",
    "    x_onehot[i,x[i]]=1\n",
    "    \n",
    "# Calculate the model accuracy\n",
    "acc = model.score(x_onehot)\n",
    "print('Feature reconstruction accuracy: {0:>6.2%}'.format(acc))"
   ]
  },
  {
   "cell_type": "markdown",
   "metadata": {
    "colab_type": "text",
    "id": "btmTpWxPQRb6"
   },
   "source": [
    "## 2M Bag Dataset - LOS (length of stay) feature\n",
    "#### Onehot Encoding :\n",
    "For `LOS` feature, also one hot encoding is done. The days (feature value) will range now from $0$ to $31+$. \n",
    "\n",
    "The way we encoded these feature into one-hot is: \n",
    "$0$ - $31$ (32 dim) and $32+$ (1 dim) making total of 33 dimensional onehot encoded vector."
   ]
  },
  {
   "cell_type": "code",
   "execution_count": 0,
   "metadata": {
    "colab": {},
    "colab_type": "code",
    "id": "Bpr9pVV9QN0M"
   },
   "outputs": [],
   "source": [
    "df = train_df[['LOS_DAYS']]\n",
    "x = np.array(df).astype(int)\n",
    "x_onehot = np.zeros((x.shape[0],33), dtype=np.int8)\n",
    "for i in range(x.shape[0]):\n",
    "    if x[i] >31:\n",
    "        x_onehot[i,32]=1\n",
    "    else:\n",
    "        x_onehot[i,x[i]]=1"
   ]
  },
  {
   "cell_type": "markdown",
   "metadata": {},
   "source": [
    "### Configuration dictionary for the experiment"
   ]
  },
  {
   "cell_type": "code",
   "execution_count": null,
   "metadata": {
    "colab": {},
    "colab_type": "code",
    "id": "Pkzcq_R87wpJ"
   },
   "outputs": [],
   "source": [
    "config = {'name' : 'LOS_vae',\n",
    "          'ndims': x_onehot.shape[1],\n",
    "          'nlatent': 3,\n",
    "          'encoder': {'h1': 100,'h2': 50},\n",
    "          'decoder': {'h1': 50, 'h2': 100},\n",
    "          'weights': {'reconstruction':1000, 'latent':0.00001},\n",
    "          'path': {'save':'./LOS/', 'load':'./LOS/'}\n",
    "          }"
   ]
  },
  {
   "cell_type": "code",
   "execution_count": null,
   "metadata": {
    "colab": {
     "base_uri": "https://localhost:8080/",
     "height": 641
    },
    "colab_type": "code",
    "id": "XWV6XJtcQqVZ",
    "outputId": "67367365-20f9-40d2-ed38-8e0510b3dce3"
   },
   "outputs": [],
   "source": [
    "# Build model.\n",
    "model = VariationalAutoencoder(config)\n",
    "\n",
    "# Start training\n",
    "train(model, x_onehot, learning_rate=0.0005, batch_size=16, epochs=25)\n",
    "\n",
    "#save\n",
    "model.save()"
   ]
  },
  {
   "cell_type": "markdown",
   "metadata": {
    "colab": {
     "base_uri": "https://localhost:8080/",
     "height": 34
    },
    "colab_type": "code",
    "id": "HofKMRMlSy-m",
    "outputId": "8fbf5f06-11a5-4a78-f597-ab22ce06c038"
   },
   "source": [
    "#### Testing VAE encoding performance on LOS feature embedding"
   ]
  },
  {
   "cell_type": "code",
   "execution_count": 0,
   "metadata": {
    "colab": {},
    "colab_type": "code",
    "id": "AhmB4i8StHb3"
   },
   "outputs": [],
   "source": [
    "df = test_df[['LOS_DAYS']]\n",
    "x = np.array(df).astype(int)\n",
    "x_onehot = np.zeros((x.shape[0],33), dtype=np.int8)\n",
    "for i in range(x.shape[0]):\n",
    "    if x[i] >31:\n",
    "        x_onehot[i,32]=1\n",
    "    else:\n",
    "        x_onehot[i,x[i]]=1"
   ]
  },
  {
   "cell_type": "code",
   "execution_count": 0,
   "metadata": {
    "colab": {
     "base_uri": "https://localhost:8080/",
     "height": 51
    },
    "colab_type": "code",
    "id": "obbXrs_S9K8b",
    "outputId": "4fe58dcf-ac39-4549-a151-874b2e38300a"
   },
   "outputs": [
    {
     "name": "stdout",
     "output_type": "stream",
     "text": [
      "INFO:tensorflow:Restoring parameters from ./VAE/LOS/LOS_vae.ckpt\n",
      "Accuracy: 98.61%\n"
     ]
    }
   ],
   "source": [
    "model.load()\n",
    "acc = model.score(x_onehot)\n",
    "print('Accuracy: {0:>6.2%}'.format(acc))"
   ]
  },
  {
   "cell_type": "markdown",
   "metadata": {
    "colab_type": "text",
    "id": "Jn4d787fbBnh"
   },
   "source": [
    "## 2M Bag Dataset - Group Size feature\n",
    "#### Onehot Encoding :\n",
    "For `Group Size` feature, also one hot encoding is done. The member in group (feature value) will range from $1$ to $10+$. \n",
    "\n",
    "The way we encoded these feature value into one-hot is: \n",
    "$1$ - $4$ (4 dim) and $5+$ (1 dim) making total of 5 dimensional onehot encoded vector."
   ]
  },
  {
   "cell_type": "code",
   "execution_count": 0,
   "metadata": {
    "colab": {},
    "colab_type": "code",
    "id": "fFviFpWLYL1u"
   },
   "outputs": [],
   "source": [
    "df = train_df[['GROUP_SIZE']]\n",
    "x = np.array(df).astype(int)\n",
    "x_onehot = np.zeros((x.shape[0],5), dtype=np.int8)\n",
    "for i in range(x.shape[0]):\n",
    "    if x[i] >4:\n",
    "        x_onehot[i,4]=1\n",
    "    else:\n",
    "        x_onehot[i,x[i]-1]=1"
   ]
  },
  {
   "cell_type": "code",
   "execution_count": 0,
   "metadata": {
    "colab": {
     "base_uri": "https://localhost:8080/",
     "height": 590
    },
    "colab_type": "code",
    "id": "9FFTulmffAnL",
    "outputId": "b73332d6-f11f-4192-db55-d8f331573fb9"
   },
   "outputs": [
    {
     "name": "stdout",
     "output_type": "stream",
     "text": [
      "Epoch:      2, Avg. loss: 26.9935, Latent loss: 123.7921, Reconstruction loss: 0.0001\n",
      "Epoch:      4, Avg. loss: 26.6904, Latent loss: 102.6105, Reconstruction loss: 0.0001\n",
      "Epoch:      6, Avg. loss: 0.0251, Latent loss: 212.1620, Reconstruction loss: 0.0000\n",
      "Epoch:      8, Avg. loss: 0.0069, Latent loss: 242.3061, Reconstruction loss: 0.0000\n",
      "Epoch:     10, Avg. loss: 0.0040, Latent loss: 241.3470, Reconstruction loss: 0.0000\n",
      "Epoch:     12, Avg. loss: 0.0032, Latent loss: 267.7228, Reconstruction loss: 0.0000\n",
      "Epoch:     14, Avg. loss: 0.0028, Latent loss: 263.8126, Reconstruction loss: 0.0000\n",
      "Epoch:     16, Avg. loss: 0.0024, Latent loss: 192.9008, Reconstruction loss: 0.0000\n",
      "Epoch:     18, Avg. loss: 0.0019, Latent loss: 170.0698, Reconstruction loss: 0.0000\n",
      "Epoch:     20, Avg. loss: 0.0014, Latent loss: 111.7527, Reconstruction loss: 0.0000\n"
     ]
    },
    {
     "data": {
      "image/png": "[encoded data removed]",
      "text/plain": [
       "<matplotlib.figure.Figure at 0x7f5f729d0240>"
      ]
     },
     "metadata": {
      "tags": []
     },
     "output_type": "display_data"
    },
    {
     "name": "stdout",
     "output_type": "stream",
     "text": [
      "Model saved in path: ./VAE/GroupSize/GroupSize_vae.ckpt\n"
     ]
    }
   ],
   "source": [
    "config = {'name' : 'GroupSize_vae',\n",
    "          'ndims': x_onehot.shape[1],\n",
    "          'nlatent': 2,\n",
    "          'encoder': {'h1': 100,'h2': 50},\n",
    "          'decoder': {'h1': 50, 'h2': 100},\n",
    "          'weights': {'reconstruction':1000, 'latent':0.00001},\n",
    "          'path': {'save':'./VAE/GroupSize/', 'load':'./VAE/GroupSize/'}\n",
    "          }\n",
    "\n",
    "# Build model.\n",
    "model = VariationalAutoencoder(config)\n",
    "\n",
    "# Start training\n",
    "train(model, x_onehot, learning_rate=0.0005, batch_size=16, epochs=20)\n",
    "\n",
    "model.save()"
   ]
  },
  {
   "cell_type": "code",
   "execution_count": 0,
   "metadata": {
    "colab": {},
    "colab_type": "code",
    "id": "f0jdUm-2RUXN"
   },
   "outputs": [],
   "source": [
    "df = test_df[['GROUP_SIZE']]\n",
    "x = np.array(df).astype(int)\n",
    "x_onehot = np.zeros((x.shape[0],5), dtype=np.int8)\n",
    "for i in range(x.shape[0]):\n",
    "    if x[i] >4:\n",
    "        x_onehot[i,4]=1\n",
    "    else:\n",
    "        x_onehot[i,x[i]-1]=1"
   ]
  },
  {
   "cell_type": "code",
   "execution_count": 0,
   "metadata": {
    "colab": {
     "base_uri": "https://localhost:8080/",
     "height": 51
    },
    "colab_type": "code",
    "id": "luadonOvgcZP",
    "outputId": "93673f5c-532c-490a-ac52-833bc0991e2d"
   },
   "outputs": [
    {
     "name": "stdout",
     "output_type": "stream",
     "text": [
      "INFO:tensorflow:Restoring parameters from ./VAE/GroupSize/GroupSize_vae.ckpt\n",
      "Accuracy: 100.00%\n"
     ]
    }
   ],
   "source": [
    "model.load()\n",
    "acc = model.score(x_onehot)\n",
    "print('Accuracy: {0:>6.2%}'.format(acc))"
   ]
  }
 ],
 "metadata": {
  "accelerator": "GPU",
  "colab": {
   "collapsed_sections": [],
   "name": "VAE_playground.ipynb",
   "provenance": [],
   "version": "0.3.2"
  },
  "kernelspec": {
   "display_name": "Python 3",
   "language": "python",
   "name": "python3"
  },
  "language_info": {
   "codemirror_mode": {
    "name": "ipython",
    "version": 3
   },
   "file_extension": ".py",
   "mimetype": "text/x-python",
   "name": "python",
   "nbconvert_exporter": "python",
   "pygments_lexer": "ipython3",
   "version": "3.6.7"
  }
 },
 "nbformat": 4,
 "nbformat_minor": 1
}
